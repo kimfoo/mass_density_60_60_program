{
 "cells": [
  {
   "attachments": {},
   "cell_type": "markdown",
   "metadata": {
    "hide_input": true
   },
   "source": [
    "# 1 Parameter setting"
   ]
  },
  {
   "cell_type": "code",
   "execution_count": 3,
   "metadata": {
    "ExecuteTime": {
     "end_time": "2022-02-17T06:53:59.107376Z",
     "start_time": "2022-02-17T06:53:59.103158Z"
    }
   },
   "outputs": [],
   "source": [
    "import os\n",
    "import ppap4lmp as pp\n",
    "import numpy as np\n",
    "import matplotlib.pyplot as plt\n"
   ]
  },
  {
   "cell_type": "code",
   "execution_count": 5,
   "metadata": {
    "ExecuteTime": {
     "end_time": "2022-02-17T06:53:59.117062Z",
     "start_time": "2022-02-17T06:53:59.110269Z"
    }
   },
   "outputs": [
    {
     "name": "stdout",
     "output_type": "stream",
     "text": [
      "Files in '/home/yang/kimberly/mass_density_60_60/c9ester_0.5': ['Cal_NumberDensityDistribution_volume.ipynb', 'Analyze']\n"
     ]
    }
   ],
   "source": [
    "cwd = os.getcwd()\n",
    "files = os.listdir(cwd)  # Get all the files in that directory\n",
    "print(\"Files in %r: %s\" % (cwd, files))\n",
    "\n",
    "path = \"/home/yang/kimberly/mass_density_60_60/c9ester_0.5\"\n",
    "\n",
    "OFMnum = 60          # Number of OFMs ------ [92 for High; 46 for Medium; 22 for Low]"
   ]
  },
  {
   "cell_type": "code",
   "execution_count": 7,
   "metadata": {},
   "outputs": [
    {
     "name": "stdout",
     "output_type": "stream",
     "text": [
      "/mnt/Kim_3/1.0_c9ester/60pao_60ofm/7.shear_0.5G/rerun_shear/combine\n"
     ]
    }
   ],
   "source": [
    "path_dumps = \"/mnt/Kim_3/1.0_c9ester/60pao_60ofm/7.shear_0.5G/rerun_shear/combine\"\n",
    "os.chdir(path_dumps)\n",
    "print(os.getcwd())"
   ]
  },
  {
   "cell_type": "code",
   "execution_count": 9,
   "metadata": {
    "ExecuteTime": {
     "end_time": "2022-02-17T06:53:59.126981Z",
     "start_time": "2022-02-17T06:53:59.120512Z"
    }
   },
   "outputs": [
    {
     "name": "stdout",
     "output_type": "stream",
     "text": [
      "/mnt/Kim_3/1.0_c9ester/60pao_60ofm/7.shear_0.5G/rerun_shear/combine\n"
     ]
    }
   ],
   "source": [
    "# path_dumps = path + \"/dumps_all\"\n",
    "\n",
    "if not os.path.exists(path + \"/Analyze\"):\n",
    "    os.makedirs(path + \"/Analyze\")\n",
    "path_Analyze = path + \"/Analyze\"\n",
    "\n",
    "os.chdir(path_dumps)\n",
    "print(os.getcwd())"
   ]
  },
  {
   "cell_type": "code",
   "execution_count": 11,
   "metadata": {
    "ExecuteTime": {
     "end_time": "2022-02-17T06:53:59.134240Z",
     "start_time": "2022-02-17T06:53:59.130019Z"
    }
   },
   "outputs": [],
   "source": [
    "dump_start = 12000000    \n",
    "dump_end =   22000000\n",
    "dump_interval = 4000\n",
    "\n",
    "FilmThickness = 20 # Å, Can be a little bigger than real film thickness\n",
    "#OFMnum = ?\n",
    "gap = 0.1           # The interval of each layer"
   ]
  },
  {
   "cell_type": "code",
   "execution_count": 13,
   "metadata": {
    "ExecuteTime": {
     "end_time": "2022-02-17T06:53:59.140353Z",
     "start_time": "2022-02-17T06:53:59.136014Z"
    }
   },
   "outputs": [
    {
     "name": "stdout",
     "output_type": "stream",
     "text": [
      "461.0504184999999\n"
     ]
    }
   ],
   "source": [
    "box_x = 130.813   # Å\n",
    "box_y = 35.245   # Å\n",
    "\n",
    "#Area = box_x * box_y   # Å^2, NOTE: It is better to use volume, not area! I have changed area to volume in EXCEL.\n",
    "\n",
    "Volume = box_x * box_y * gap    # Å^3 在这个新的程序里面，改成了直接除以体积，避免在excel里重新算\n",
    "\n",
    "print(Volume)"
   ]
  },
  {
   "attachments": {},
   "cell_type": "markdown",
   "metadata": {},
   "source": [
    "# 2 Program running"
   ]
  },
  {
   "cell_type": "code",
   "execution_count": 14,
   "metadata": {
    "ExecuteTime": {
     "end_time": "2022-02-17T06:53:59.155421Z",
     "start_time": "2022-02-17T06:53:59.144709Z"
    }
   },
   "outputs": [
    {
     "name": "stdout",
     "output_type": "stream",
     "text": [
      "[26.9087 26.9375 26.9216 ... 26.7186 26.7178 26.7566]\n"
     ]
    }
   ],
   "source": [
    "# 判断之前是否已经保存过基板的[最大][最小]坐标：若没有，则计算并输出保存；若有，则直接读取\n",
    "# 因为计算一次要花很长时间\n",
    "\n",
    "# 1. Find Max lower Fe\n",
    "if not os.path.isfile(path_Analyze + \"/Data_MaxLowerFe_Original\" + str(dump_start) + \"_\" + str(dump_interval) + \"_\" + str(dump_end) + \".txt\"):\n",
    "  \n",
    "  os.chdir(path_dumps)\n",
    "  atoms_traj = [pp.create(\n",
    "  pp.StaDumpAtoms(\"atom.{}.dump\".format(i), i))\n",
    "  for i in range(dump_start, dump_end+4000, dump_interval)]\n",
    "\n",
    "  for atoms in atoms_traj:\n",
    "    atoms.append_updater(pp.FilSet({\"type\": {17}}))  # Type 17: Fe's type on lower interface\n",
    "\n",
    "  pro = pp.ProValueArray(atoms_traj)\n",
    "  pro.select(\"zu\")\n",
    "  pp.execute_omp(pro)\n",
    "  results = pro.get_results()\n",
    "  zu_array_Fe = results[\"zu\"]\n",
    "\n",
    "  MaxLowerFe = np.zeros(len(atoms_traj))\n",
    "  for i in range(len(atoms_traj)):\n",
    "      MaxLowerFe[i] = np.max(zu_array_Fe[i])  # Z_max for Fe in lower interface  \n",
    "  print(MaxLowerFe)\n",
    "\n",
    "  os.chdir(path_Analyze)\n",
    "  np.savetxt(\"Data_MaxLowerFe_Original\" + str(dump_start) + \"_\" + str(dump_interval) + \"_\" + str(dump_end) + \".txt\", MaxLowerFe, fmt='%f', delimiter=' ')\n",
    "\n",
    "else:\n",
    "  print(\"Will read MaxLowerFe directly from the previous saved file.\")\n",
    "  \n",
    "  \n"
   ]
  },
  {
   "cell_type": "code",
   "execution_count": 16,
   "metadata": {
    "ExecuteTime": {
     "end_time": "2022-02-17T06:53:59.179215Z",
     "start_time": "2022-02-17T06:53:59.158333Z"
    }
   },
   "outputs": [],
   "source": [
    "# Read MaxLowerFe and MinUpperFe from file no matter re-calculated or not.\n",
    "\n",
    "os.chdir(path_Analyze)\n",
    "MaxLowerFe = np.loadtxt(\n",
    "    \"Data_MaxLowerFe_Original\" + str(dump_start) + \"_\" + str(dump_interval) + \"_\" + str(dump_end) + \".txt\",\n",
    "    delimiter = \" \",\n",
    "    skiprows = 0,\n",
    ")"
   ]
  },
  {
   "cell_type": "code",
   "execution_count": 17,
   "metadata": {},
   "outputs": [],
   "source": [
    "# Get the smallest and largest x-coordinate of oxygen atoms in upper interface\n",
    "\n",
    "os.chdir(path_dumps)\n",
    "atoms_traj = [pp.create(\n",
    "pp.StaDumpAtoms(\"atom.{}.dump\".format(i), i))\n",
    "for i in range(dump_start, dump_end+4000, dump_interval)]\n",
    "\n",
    "for atoms in atoms_traj:\n",
    "    atoms.append_updater(pp.FilSet({\"type\": {24}}))  # Type 24: O's type on upper cylinder surface"
   ]
  },
  {
   "cell_type": "code",
   "execution_count": 18,
   "metadata": {},
   "outputs": [
    {
     "name": "stdout",
     "output_type": "stream",
     "text": [
      "[ 547.258  547.506  547.647 ... 1046.61  1046.79  1047.02 ]\n",
      "[ 582.332  582.531  582.675 ... 1081.66  1081.98  1082.08 ]\n"
     ]
    }
   ],
   "source": [
    "if not os.path.isfile(path_Analyze + \"/Data_Min_Oxu\" + str(dump_start) + \"_\" + str(dump_interval) + \"_\" + str(dump_end) + \".txt\"):\n",
    "    if not os.path.isfile(path_Analyze + \"/Data_Min_Oxu\" + str(dump_start) + \"_\" + str(dump_interval) + \"_\" + str(dump_end) + \".txt\"):\n",
    "        c = pp.ProValueArray(atoms_traj)\n",
    "        c.select(\"xu\")\n",
    "        pp.execute_omp(c)\n",
    "        results = c.get_results()\n",
    "    \n",
    "        xu_array_O = results[\"xu\"]\n",
    "        Min_Oxu = np.zeros(len(atoms_traj))\n",
    "        Max_Oxu = np.zeros(len(atoms_traj))\n",
    "        for i in range(len(atoms_traj)):\n",
    "            Min_Oxu[i] = np.min(xu_array_O[i])\n",
    "            Max_Oxu[i] = np.max(xu_array_O[i])\n",
    "        print(Min_Oxu)\n",
    "        print(Max_Oxu)\n",
    "    \n",
    "        os.chdir(path_Analyze)\n",
    "        np.savetxt(\"Data_Min_Oxu\" + str(dump_start) + \"_\" + str(dump_interval) + \"_\" + str(dump_end) + \".txt\", Min_Oxu, fmt='%f', delimiter=' ')\n",
    "        np.savetxt(\"Data_Max_Oxu\" + str(dump_start) + \"_\" + str(dump_interval) + \"_\" + str(dump_end) + \".txt\", Max_Oxu, fmt='%f', delimiter=' ')\n",
    "else:\n",
    "  print(\"Will read Min_Oxu,Max_Oxu directly from the previous saved file.\")"
   ]
  },
  {
   "cell_type": "code",
   "execution_count": 19,
   "metadata": {},
   "outputs": [],
   "source": [
    "os.chdir(path_Analyze)\n",
    "Min_Oxu = np.loadtxt(\n",
    "    \"Data_Min_Oxu\" + str(dump_start) + \"_\" + str(dump_interval) + \"_\" + str(dump_end) + \".txt\",\n",
    "    delimiter = \" \",\n",
    "    skiprows = 0,\n",
    ")\n",
    "Max_Oxu = np.loadtxt(\n",
    "    \"Data_Max_Oxu\" + str(dump_start) + \"_\" + str(dump_interval) + \"_\" + str(dump_end) + \".txt\",\n",
    "    delimiter = \" \",\n",
    "    skiprows = 0,\n",
    ")"
   ]
  },
  {
   "cell_type": "code",
   "execution_count": 20,
   "metadata": {},
   "outputs": [
    {
     "name": "stdout",
     "output_type": "stream",
     "text": [
      "[24.006 24.254 24.395 ...  0.106  0.286  0.516]\n",
      "[59.08  59.279 59.423 ... 35.156 35.476 35.576]\n"
     ]
    }
   ],
   "source": [
    "#Cylinder下部のMin_Oxu,Max_OxuをWrap\n",
    "for i in range (len(atoms_traj)):   \n",
    "    if Min_Oxu[i] < 0:\n",
    "        while Min_Oxu[i] < 0:\n",
    "            Min_Oxu[i] +=  box_x\n",
    "    elif Min_Oxu[i] > box_x:\n",
    "        while Min_Oxu[i] > box_x:\n",
    "            Min_Oxu[i] -= box_x\n",
    "\n",
    "for i in range (len(atoms_traj)):   \n",
    "    if Max_Oxu[i] < 0:\n",
    "        while Max_Oxu[i] < 0:\n",
    "         Max_Oxu[i] +=  box_x\n",
    "    elif Max_Oxu[i] > box_x:\n",
    "        while Max_Oxu[i] > box_x:\n",
    "         Max_Oxu[i] -= box_x\n",
    "\n",
    "print(Min_Oxu)\n",
    "print(Max_Oxu)"
   ]
  },
  {
   "attachments": {},
   "cell_type": "markdown",
   "metadata": {},
   "source": [
    "## 2.1 Cal mass density profile for PAO atoms"
   ]
  },
  {
   "cell_type": "code",
   "execution_count": 21,
   "metadata": {
    "ExecuteTime": {
     "end_time": "2022-02-17T06:53:59.208629Z",
     "start_time": "2022-02-17T06:53:59.181135Z"
    }
   },
   "outputs": [],
   "source": [
    "os.chdir(path_dumps)\n",
    "atoms_traj = [pp.create(\n",
    "  pp.StaDumpAtoms(\"atom.{}.dump\".format(i), i))\n",
    "  for i in range(dump_start, dump_end+4000, dump_interval)]"
   ]
  },
  {
   "cell_type": "code",
   "execution_count": 22,
   "metadata": {
    "ExecuteTime": {
     "end_time": "2022-02-17T06:53:59.216727Z",
     "start_time": "2022-02-17T06:53:59.211482Z"
    }
   },
   "outputs": [
    {
     "data": {
      "text/plain": [
       "2501"
      ]
     },
     "execution_count": 22,
     "metadata": {},
     "output_type": "execute_result"
    }
   ],
   "source": [
    "len(atoms_traj)"
   ]
  },
  {
   "cell_type": "code",
   "execution_count": 23,
   "metadata": {
    "ExecuteTime": {
     "end_time": "2022-02-17T06:54:47.147226Z",
     "start_time": "2022-02-17T06:53:59.219316Z"
    }
   },
   "outputs": [
    {
     "name": "stdout",
     "output_type": "stream",
     "text": [
      "[[1. 1. 1. ... 3. 3. 3.]\n",
      " [1. 1. 1. ... 3. 3. 3.]\n",
      " [1. 1. 1. ... 3. 3. 3.]\n",
      " ...\n",
      " [1. 1. 1. ... 3. 3. 3.]\n",
      " [1. 1. 1. ... 3. 3. 3.]\n",
      " [1. 1. 1. ... 3. 3. 3.]]\n"
     ]
    }
   ],
   "source": [
    "for atoms in atoms_traj:\n",
    "    atoms.append_updater(pp.FilSet({\"type\": {1,2,3}}))  \n",
    "    # 1: C     2: C     3: H\n",
    "\n",
    "pro = pp.ProValueArray(atoms_traj)\n",
    "pro.select(\"zu\",\"type\",\"xu\")\n",
    "\n",
    "pp.execute_omp(pro)\n",
    "\n",
    "results = pro.get_results()\n",
    "\n",
    "zu_array = results[\"zu\"]\n",
    "type_array = results[\"type\"]\n",
    "xu_array = results[\"xu\"]\n",
    "\n",
    "print(type_array)"
   ]
  },
  {
   "cell_type": "code",
   "execution_count": 24,
   "metadata": {},
   "outputs": [
    {
     "name": "stdout",
     "output_type": "stream",
     "text": [
      "2501\n"
     ]
    }
   ],
   "source": [
    "# total number of atoms selected \n",
    "num_elements = len(zu_array)\n",
    "print(num_elements)\n",
    "atom_num = 7320            # 1: C     2: C     3: H"
   ]
  },
  {
   "cell_type": "code",
   "execution_count": 25,
   "metadata": {},
   "outputs": [
    {
     "name": "stdout",
     "output_type": "stream",
     "text": [
      "[[127.215 127.475 126.911 ... 107.469 106.119 105.859]\n",
      " [126.919 125.851 126.039 ... 107.199 105.728 105.953]\n",
      " [125.151 126.506 126.23  ... 107.07  105.91  106.961]\n",
      " ...\n",
      " [ 71.678  70.66   69.877 ...  80.479  82.191  81.736]\n",
      " [ 72.163  70.714  70.544 ...  81.693  80.501  82.172]\n",
      " [ 72.227  71.476  71.055 ...  79.349  79.443  80.826]]\n"
     ]
    }
   ],
   "source": [
    "for i in range (len(atoms_traj)):   \n",
    "    for j in range (atom_num):    #7320\n",
    "        if xu_array[i][j] < 0:\n",
    "            while xu_array[i][j]<0:\n",
    "                xu_array[i][j] = xu_array[i][j]+box_x\n",
    "        elif xu_array[i][j] > box_x:\n",
    "            while xu_array[i][j]>box_x:\n",
    "                xu_array[i][j] -= box_x\n",
    "        xu_array[i][j] = round(xu_array[i][j], 4)\n",
    "print(xu_array)"
   ]
  },
  {
   "cell_type": "code",
   "execution_count": 26,
   "metadata": {
    "ExecuteTime": {
     "end_time": "2022-02-17T06:55:55.787295Z",
     "start_time": "2022-02-17T06:54:47.148584Z"
    },
    "tags": []
   },
   "outputs": [
    {
     "name": "stdout",
     "output_type": "stream",
     "text": [
      "[0. 0. 0. ... 0. 0. 0.]\n"
     ]
    }
   ],
   "source": [
    "Mass_C = np.zeros(5000)\n",
    "Mass_H = np.zeros(5000) \n",
    "z = np.zeros(5000) \n",
    "\n",
    "\n",
    "for i in range (len(atoms_traj)):\n",
    "    for j in range (atom_num): \n",
    "\n",
    "      layer_C = (zu_array[i][j] - MaxLowerFe[i]) // gap   # 0.3//0.5=0; 0.9//0.5=1.0; 1.1//0.5=2.0\n",
    "      if Min_Oxu[i] < Max_Oxu[i]:\n",
    "        if Min_Oxu[i]<=xu_array[i][j]<=Max_Oxu[i]:\n",
    "\n",
    "\n",
    "          if type_array[i][j] == 1 or type_array[i][j] == 2 :\n",
    "            Mass_C[int(layer_C)] = Mass_C[int(layer_C)] + 12\n",
    "          \n",
    "          if type_array[i][j] == 3 :\n",
    "            Mass_H[int(layer_C)] = Mass_H[int(layer_C)] + 1\n",
    "            \n",
    "      elif Min_Oxu[i] > Max_Oxu[i]:\n",
    "        if Min_Oxu[i]<=xu_array[i][j] or xu_array[i][j]<=Max_Oxu[i]:\n",
    "\n",
    "\n",
    "          if type_array[i][j] == 1 or type_array[i][j] == 2 :\n",
    "            Mass_C[int(layer_C)] = Mass_C[int(layer_C)] + 12\n",
    "          \n",
    "          if type_array[i][j] == 3 :\n",
    "            Mass_H[int(layer_C)] = Mass_H[int(layer_C)] + 1\n",
    "\n",
    "      \n",
    "            \n",
    "Mass_C = Mass_C / len(atoms_traj)  \n",
    "Density_C = Mass_C / Volume  \n",
    "Mass_H = Mass_H / len(atoms_traj)  \n",
    "Density_H = Mass_H / Volume  \n",
    "\n",
    "Density = (Density_C + Density_H)*(1.661129568)   \n",
    "\n",
    "print(Density)\n",
    "\n",
    "for i in range( int(FilmThickness/gap) ):\n",
    "    z[i+1] = z[i] + gap"
   ]
  },
  {
   "cell_type": "code",
   "execution_count": 27,
   "metadata": {
    "ExecuteTime": {
     "end_time": "2022-02-17T06:55:55.873416Z",
     "start_time": "2022-02-17T06:55:55.788638Z"
    }
   },
   "outputs": [
    {
     "data": {
      "text/plain": [
       "[<matplotlib.lines.Line2D at 0x7fdc4cc53ef0>]"
      ]
     },
     "execution_count": 27,
     "metadata": {},
     "output_type": "execute_result"
    },
    {
     "data": {
      "image/png": "[encoded data removed]",
      "text/plain": [
       "<Figure size 432x288 with 1 Axes>"
      ]
     },
     "metadata": {
      "needs_background": "light"
     },
     "output_type": "display_data"
    }
   ],
   "source": [
    "x = z\n",
    "y1 = Density\n",
    "plt.plot(x, y1, label = 'PAO')"
   ]
  },
  {
   "cell_type": "code",
   "execution_count": 28,
   "metadata": {
    "ExecuteTime": {
     "end_time": "2022-02-17T06:55:55.878907Z",
     "start_time": "2022-02-17T06:55:55.874404Z"
    }
   },
   "outputs": [],
   "source": [
    "os.chdir(path_Analyze)\n",
    "\n",
    "# --------- PAO ---------\n",
    "wf = open(\"Data_\" + \"massd_pao\" + \".txt\", \"w\")\n",
    "wf.write( \"Total number of dumps: \" + str(len(atoms_traj)) + \"\\n\\n\" )\n",
    "wf.write( \"z[A]\\tmass_density_pao[g/cm^3]\\n\" )\n",
    "\n",
    "#wf.write( \"z[Å]\\tNDD(C)[/Å^3]\\n\" )\n",
    "for i in range( int(FilmThickness/gap) ):\n",
    "    wf.write(str(round(z[i],2)) + \"\\t\" + str(Density[i]) + \"\\n\")\n",
    "\n",
    "\n",
    "wf.close()"
   ]
  },
  {
   "attachments": {},
   "cell_type": "markdown",
   "metadata": {},
   "source": [
    "## 2.1 Cal mass density for c9ester OFM"
   ]
  },
  {
   "cell_type": "code",
   "execution_count": 29,
   "metadata": {},
   "outputs": [
    {
     "name": "stdout",
     "output_type": "stream",
     "text": [
      "Will read MaxLowerFe directly from the previous saved file.\n"
     ]
    }
   ],
   "source": [
    "# 判断之前是否已经保存过基板的[最大][最小]坐标：若没有，则计算并输出保存；若有，则直接读取\n",
    "# 因为计算一次要花很长时间\n",
    "\n",
    "# 1. Find Max lower Fe\n",
    "if not os.path.isfile(path_Analyze + \"/Data_MaxLowerFe_Original\" + str(dump_start) + \"_\" + str(dump_interval) + \"_\" + str(dump_end) + \".txt\"):\n",
    "  \n",
    "  os.chdir(path_dumps)\n",
    "  atoms_traj = [pp.create(\n",
    "  pp.StaDumpAtoms(\"atom.{}.dump\".format(i), i))\n",
    "  for i in range(dump_start, dump_end+4000, dump_interval)]\n",
    "\n",
    "  for atoms in atoms_traj:\n",
    "    atoms.append_updater(pp.FilSet({\"type\": {17}}))  # Type 17: Fe's type on lower interface\n",
    "\n",
    "  pro = pp.ProValueArray(atoms_traj)\n",
    "  pro.select(\"zu\")\n",
    "  pp.execute_omp(pro)\n",
    "  results = pro.get_results()\n",
    "  zu_array_Fe = results[\"zu\"]\n",
    "\n",
    "  MaxLowerFe = np.zeros(len(atoms_traj))\n",
    "  for i in range(len(atoms_traj)):\n",
    "      MaxLowerFe[i] = np.max(zu_array_Fe[i])  # Z_max for Fe in lower interface  \n",
    "  print(MaxLowerFe)\n",
    "\n",
    "  os.chdir(path_Analyze)\n",
    "  np.savetxt(\"Data_MaxLowerFe_Original\" + str(dump_start) + \"_\" + str(dump_interval) + \"_\" + str(dump_end) + \".txt\", MaxLowerFe, fmt='%f', delimiter=' ')\n",
    "\n",
    "else:\n",
    "  print(\"Will read MaxLowerFe directly from the previous saved file.\")"
   ]
  },
  {
   "cell_type": "code",
   "execution_count": 30,
   "metadata": {},
   "outputs": [],
   "source": [
    "# Read MaxLowerFe and MinUpperFe from file no matter re-calculated or not.\n",
    "\n",
    "os.chdir(path_Analyze)\n",
    "MaxLowerFe = np.loadtxt(\n",
    "    \"Data_MaxLowerFe_Original\" + str(dump_start) + \"_\" + str(dump_interval) + \"_\" + str(dump_end) + \".txt\",\n",
    "    delimiter = \" \",\n",
    "    skiprows = 0,\n",
    ")"
   ]
  },
  {
   "cell_type": "code",
   "execution_count": 31,
   "metadata": {},
   "outputs": [],
   "source": [
    "# Get the smallest and largest x-coordinate of oxygen atoms in upper interface\n",
    "\n",
    "os.chdir(path_dumps)\n",
    "atoms_traj = [pp.create(\n",
    "pp.StaDumpAtoms(\"atom.{}.dump\".format(i), i))\n",
    "for i in range(dump_start, dump_end+4000, dump_interval)]\n",
    "\n",
    "for atoms in atoms_traj:\n",
    "    atoms.append_updater(pp.FilSet({\"type\": {24}}))  # Type 24: O's type on upper cylinder surface"
   ]
  },
  {
   "cell_type": "code",
   "execution_count": 32,
   "metadata": {},
   "outputs": [
    {
     "name": "stdout",
     "output_type": "stream",
     "text": [
      "Will read Min_Oxu,Max_Oxu directly from the previous saved file.\n"
     ]
    }
   ],
   "source": [
    "if not os.path.isfile(path_Analyze + \"/Data_Min_Oxu\" + str(dump_start) + \"_\" + str(dump_interval) + \"_\" + str(dump_end) + \".txt\"):\n",
    "    if not os.path.isfile(path_Analyze + \"/Data_Min_Oxu\" + str(dump_start) + \"_\" + str(dump_interval) + \"_\" + str(dump_end) + \".txt\"):\n",
    "        c = pp.ProValueArray(atoms_traj)\n",
    "        c.select(\"xu\")\n",
    "        pp.execute_omp(c)\n",
    "        results = c.get_results()\n",
    "    \n",
    "        xu_array_O = results[\"xu\"]\n",
    "        Min_Oxu = np.zeros(len(atoms_traj))\n",
    "        Max_Oxu = np.zeros(len(atoms_traj))\n",
    "        for i in range(len(atoms_traj)):\n",
    "            Min_Oxu[i] = np.min(xu_array_O[i])\n",
    "            Max_Oxu[i] = np.max(xu_array_O[i])\n",
    "        print(Min_Oxu)\n",
    "        print(Max_Oxu)\n",
    "    \n",
    "        os.chdir(path_Analyze)\n",
    "        np.savetxt(\"Data_Min_Oxu\" + str(dump_start) + \"_\" + str(dump_interval) + \"_\" + str(dump_end) + \".txt\", Min_Oxu, fmt='%f', delimiter=' ')\n",
    "        np.savetxt(\"Data_Max_Oxu\" + str(dump_start) + \"_\" + str(dump_interval) + \"_\" + str(dump_end) + \".txt\", Max_Oxu, fmt='%f', delimiter=' ')\n",
    "else:\n",
    "  print(\"Will read Min_Oxu,Max_Oxu directly from the previous saved file.\")"
   ]
  },
  {
   "cell_type": "code",
   "execution_count": 33,
   "metadata": {},
   "outputs": [],
   "source": [
    "os.chdir(path_Analyze)\n",
    "Min_Oxu = np.loadtxt(\n",
    "    \"Data_Min_Oxu\" + str(dump_start) + \"_\" + str(dump_interval) + \"_\" + str(dump_end) + \".txt\",\n",
    "    delimiter = \" \",\n",
    "    skiprows = 0,\n",
    ")\n",
    "Max_Oxu = np.loadtxt(\n",
    "    \"Data_Max_Oxu\" + str(dump_start) + \"_\" + str(dump_interval) + \"_\" + str(dump_end) + \".txt\",\n",
    "    delimiter = \" \",\n",
    "    skiprows = 0,\n",
    ")"
   ]
  },
  {
   "cell_type": "code",
   "execution_count": 34,
   "metadata": {},
   "outputs": [
    {
     "name": "stdout",
     "output_type": "stream",
     "text": [
      "[24.006 24.254 24.395 ...  0.106  0.286  0.516]\n",
      "[59.08  59.279 59.423 ... 35.156 35.476 35.576]\n"
     ]
    }
   ],
   "source": [
    "#Cylinder下部のMin_Oxu,Max_OxuをWrap\n",
    "for i in range (len(atoms_traj)):   \n",
    "    if Min_Oxu[i] < 0:\n",
    "        while Min_Oxu[i] < 0:\n",
    "            Min_Oxu[i] +=  box_x\n",
    "    elif Min_Oxu[i] > box_x:\n",
    "        while Min_Oxu[i] > box_x:\n",
    "            Min_Oxu[i] -= box_x\n",
    "\n",
    "for i in range (len(atoms_traj)):   \n",
    "    if Max_Oxu[i] < 0:\n",
    "        while Max_Oxu[i] < 0:\n",
    "         Max_Oxu[i] +=  box_x\n",
    "    elif Max_Oxu[i] > box_x:\n",
    "        while Max_Oxu[i] > box_x:\n",
    "         Max_Oxu[i] -= box_x\n",
    "\n",
    "print(Min_Oxu)\n",
    "print(Max_Oxu)"
   ]
  },
  {
   "cell_type": "code",
   "execution_count": 35,
   "metadata": {},
   "outputs": [],
   "source": [
    "os.chdir(path_dumps)\n",
    "atoms_traj = [pp.create(\n",
    "  pp.StaDumpAtoms(\"atom.{}.dump\".format(i), i))\n",
    "  for i in range(dump_start, dump_end+4000, dump_interval)]"
   ]
  },
  {
   "cell_type": "code",
   "execution_count": 36,
   "metadata": {},
   "outputs": [
    {
     "data": {
      "text/plain": [
       "2501"
      ]
     },
     "execution_count": 36,
     "metadata": {},
     "output_type": "execute_result"
    }
   ],
   "source": [
    "len(atoms_traj)"
   ]
  },
  {
   "cell_type": "code",
   "execution_count": 37,
   "metadata": {},
   "outputs": [
    {
     "name": "stdout",
     "output_type": "stream",
     "text": [
      "[[ 4.  4.  4. ...  5. 11.  5.]\n",
      " [ 4.  4.  4. ...  5. 11.  5.]\n",
      " [ 4.  4.  4. ...  5. 11.  5.]\n",
      " ...\n",
      " [ 4.  4.  4. ...  5. 11.  5.]\n",
      " [ 4.  4.  4. ...  5. 11.  5.]\n",
      " [ 4.  4.  4. ...  5. 11.  5.]]\n"
     ]
    }
   ],
   "source": [
    "for atoms in atoms_traj:\n",
    "    atoms.append_updater(pp.FilSet({\"type\": {4,5,6,7,8,9,10,11}}))  \n",
    "    # 1: C     2: C     3: H\n",
    "\n",
    "pro = pp.ProValueArray(atoms_traj)\n",
    "pro.select(\"zu\",\"type\",\"xu\")\n",
    "\n",
    "pp.execute_omp(pro)\n",
    "\n",
    "results = pro.get_results()\n",
    "\n",
    "zu_array = results[\"zu\"]\n",
    "type_array = results[\"type\"]\n",
    "xu_array = results[\"xu\"]\n",
    "\n",
    "print(type_array)"
   ]
  },
  {
   "cell_type": "code",
   "execution_count": 38,
   "metadata": {},
   "outputs": [],
   "source": [
    "# total number of atoms selected \n",
    "\n",
    "atom_num = 3360           "
   ]
  },
  {
   "cell_type": "code",
   "execution_count": 39,
   "metadata": {},
   "outputs": [
    {
     "name": "stdout",
     "output_type": "stream",
     "text": [
      "[[81.591 80.378 81.035 ... 73.999 73.088 76.608]\n",
      " [82.112 80.567 80.829 ... 74.277 73.308 76.785]\n",
      " [82.957 81.578 81.307 ... 74.57  73.661 76.781]\n",
      " ...\n",
      " [71.299 70.372 70.195 ... 48.798 49.603 58.78 ]\n",
      " [71.877 70.97  70.246 ... 48.746 50.052 58.335]\n",
      " [72.806 71.658 71.86  ... 50.315 50.02  58.778]]\n"
     ]
    }
   ],
   "source": [
    "for i in range (len(atoms_traj)):   \n",
    "    for j in range (atom_num):    \n",
    "        if xu_array[i][j] < 0:\n",
    "            while xu_array[i][j]<0:\n",
    "                xu_array[i][j] = xu_array[i][j]+box_x\n",
    "        elif xu_array[i][j] > box_x:\n",
    "            while xu_array[i][j]>box_x:\n",
    "                xu_array[i][j] -= box_x\n",
    "        xu_array[i][j] = round(xu_array[i][j], 4)\n",
    "print(xu_array)"
   ]
  },
  {
   "cell_type": "code",
   "execution_count": 40,
   "metadata": {},
   "outputs": [
    {
     "name": "stdout",
     "output_type": "stream",
     "text": [
      "[0. 0. 0. ... 0. 0. 0.]\n"
     ]
    }
   ],
   "source": [
    "Mass_C = np.zeros(5000)\n",
    "Mass_H = np.zeros(5000) \n",
    "Mass_O = np.zeros(5000)\n",
    "Mass_N = np.zeros(5000)\n",
    "z = np.zeros(5000) \n",
    "\n",
    "\n",
    "for i in range (len(atoms_traj)):\n",
    "    for j in range (atom_num): \n",
    "\n",
    "      layer_C = (zu_array[i][j] - MaxLowerFe[i]) // gap   # 0.3//0.5=0; 0.9//0.5=1.0; 1.1//0.5=2.0\n",
    "\n",
    "      if Min_Oxu[i] < Max_Oxu[i]:\n",
    "        if Min_Oxu[i]<=xu_array[i][j]<=Max_Oxu[i]:\n",
    "\n",
    "            if type_array[i][j] == 4 or type_array[i][j] == 6 or type_array[i][j] == 7:\n",
    "                Mass_C[int(layer_C)] = Mass_C[int(layer_C)] + 12\n",
    "            \n",
    "            if type_array[i][j] == 5:\n",
    "                Mass_H[int(layer_C)] = Mass_H[int(layer_C)] + 1\n",
    "\n",
    "            if type_array[i][j] == 8 or type_array[i][j] == 10 or type_array[i][j] == 11:\n",
    "                Mass_O[int(layer_C)] = Mass_O[int(layer_C)] + 16\n",
    "            \n",
    "            if type_array[i][j] == 9 :\n",
    "                Mass_N[int(layer_C)] = Mass_N[int(layer_C)] + 14\n",
    "\n",
    "\n",
    "\n",
    "      elif Min_Oxu[i] > Max_Oxu[i]:\n",
    "        if Min_Oxu[i]<=xu_array[i][j] or xu_array[i][j]<=Max_Oxu[i]:\n",
    "\n",
    "            if type_array[i][j] == 4 or type_array[i][j] == 6 or type_array[i][j] == 7:\n",
    "                Mass_C[int(layer_C)] = Mass_C[int(layer_C)] + 12\n",
    "            \n",
    "            if type_array[i][j] == 5:\n",
    "                Mass_H[int(layer_C)] = Mass_H[int(layer_C)] + 1\n",
    "\n",
    "            if type_array[i][j] == 8 or type_array[i][j] == 10 or type_array[i][j] == 11:\n",
    "                Mass_O[int(layer_C)] = Mass_O[int(layer_C)] + 16\n",
    "            \n",
    "            if type_array[i][j] == 9 :\n",
    "                Mass_N[int(layer_C)] = Mass_N[int(layer_C)] + 14\n",
    "\n",
    "      \n",
    "            \n",
    "Mass_C = Mass_C / len(atoms_traj)  \n",
    "Density_C = Mass_C / Volume  \n",
    "Mass_H = Mass_H / len(atoms_traj)  \n",
    "Density_H = Mass_H / Volume  \n",
    "Mass_O = Mass_O / len(atoms_traj)  \n",
    "Density_O = Mass_O / Volume  \n",
    "Mass_N = Mass_N / len(atoms_traj)  \n",
    "Density_N = Mass_N / Volume  \n",
    "\n",
    "Density_OFM = (Density_C + Density_H + Density_O + Density_N)*(1.661129568)   \n",
    "\n",
    "print(Density_OFM)\n",
    "\n",
    "for i in range( int(FilmThickness/gap) ):\n",
    "    z[i+1] = z[i] + gap"
   ]
  },
  {
   "cell_type": "code",
   "execution_count": 44,
   "metadata": {},
   "outputs": [],
   "source": [
    "os.chdir(path_Analyze)\n",
    "\n",
    "# --------- OFM ---------\n",
    "wf = open(\"Data_\" + \"massd_c9ester_OFM\" + \".txt\", \"w\")\n",
    "wf.write( \"Total number of dumps: \" + str(len(atoms_traj)) + \"\\n\\n\" )\n",
    "wf.write( \"z[A]\\tmass_density_c9ester[g/cm^3]\\n\" )\n",
    "\n",
    "#wf.write( \"z[Å]\\tNDD(C)[/Å^3]\\n\" )\n",
    "for i in range( int(FilmThickness/gap) ):\n",
    "    wf.write(str(round(z[i],2)) + \"\\t\" + str(Density_OFM[i]) + \"\\n\")"
   ]
  },
  {
   "cell_type": "code",
   "execution_count": 45,
   "metadata": {},
   "outputs": [
    {
     "data": {
      "text/plain": [
       "[<matplotlib.lines.Line2D at 0x7fdc4c6c59b0>]"
      ]
     },
     "execution_count": 45,
     "metadata": {},
     "output_type": "execute_result"
    },
    {
     "data": {
      "image/png": "[encoded data removed]",
      "text/plain": [
       "<Figure size 432x288 with 1 Axes>"
      ]
     },
     "metadata": {
      "needs_background": "light"
     },
     "output_type": "display_data"
    }
   ],
   "source": [
    "x = z\n",
    "y2 = Density\n",
    "\n",
    "plt.plot(x, y2, label = 'OFM')"
   ]
  },
  {
   "cell_type": "code",
   "execution_count": 46,
   "metadata": {},
   "outputs": [
    {
     "data": {
      "image/png": "[encoded data removed]",
      "text/plain": [
       "<Figure size 432x288 with 1 Axes>"
      ]
     },
     "metadata": {
      "needs_background": "light"
     },
     "output_type": "display_data"
    }
   ],
   "source": [
    "x = z\n",
    "y1 = Density\n",
    "plt.plot(x, y1, label = 'PAO')\n",
    "y2 = Density_OFM\n",
    "plt.plot(x, y2, label = 'OFM')\n",
    "plt.legend()\n",
    "plt.show()"
   ]
  }
 ],
 "metadata": {
  "kernelspec": {
   "display_name": "Python 3",
   "language": "python",
   "name": "python3"
  },
  "language_info": {
   "codemirror_mode": {
    "name": "ipython",
    "version": 3
   },
   "file_extension": ".py",
   "mimetype": "text/x-python",
   "name": "python",
   "nbconvert_exporter": "python",
   "pygments_lexer": "ipython3",
   "version": "3.6.10"
  },
  "metadata": {
   "interpreter": {
    "hash": "ac2eaa0ea0ebeafcc7822e65e46aa9d4f966f30b695406963e145ea4a91cd4fc"
   }
  },
  "toc": {
   "base_numbering": 1,
   "nav_menu": {},
   "number_sections": true,
   "sideBar": true,
   "skip_h1_title": true,
   "title_cell": "Table of Contents",
   "title_sidebar": "Contents",
   "toc_cell": false,
   "toc_position": {
    "height": "calc(100% - 180px)",
    "left": "10px",
    "top": "150px",
    "width": "384px"
   },
   "toc_section_display": true,
   "toc_window_display": false
  }
 },
 "nbformat": 4,
 "nbformat_minor": 4
}
