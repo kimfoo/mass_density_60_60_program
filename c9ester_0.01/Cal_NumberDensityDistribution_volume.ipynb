{
 "cells": [
  {
   "attachments": {},
   "cell_type": "markdown",
   "metadata": {
    "hide_input": true
   },
   "source": [
    "# 1 Parameter setting"
   ]
  },
  {
   "cell_type": "code",
   "execution_count": 41,
   "metadata": {
    "ExecuteTime": {
     "end_time": "2022-02-17T06:53:59.107376Z",
     "start_time": "2022-02-17T06:53:59.103158Z"
    }
   },
   "outputs": [],
   "source": [
    "import os\n",
    "import ppap4lmp as pp\n",
    "import numpy as np\n",
    "import matplotlib.pyplot as plt\n"
   ]
  },
  {
   "cell_type": "code",
   "execution_count": 42,
   "metadata": {
    "ExecuteTime": {
     "end_time": "2022-02-17T06:53:59.117062Z",
     "start_time": "2022-02-17T06:53:59.110269Z"
    }
   },
   "outputs": [
    {
     "name": "stdout",
     "output_type": "stream",
     "text": [
      "Files in '/home/yang/kimberly/mass_density/c9ester_0.01/Analyze': ['Data_MaxLowerFe_Original6000000_2000_11000000.txt', 'Data_Min_Oxu6000000_2000_11000000.txt', 'Data_Max_Oxu6000000_2000_11000000.txt', 'Data_massd_pao.txt', 'Data_massd_c9ester_OFM.txt']\n"
     ]
    }
   ],
   "source": [
    "cwd = os.getcwd()\n",
    "files = os.listdir(cwd)  # Get all the files in that directory\n",
    "print(\"Files in %r: %s\" % (cwd, files))\n",
    "\n",
    "path = \"/home/yang/kimberly/mass_density_60_60/c9ester_0.01\"\n",
    "\n",
    "OFMnum = 60          # Number of OFMs ------ [92 for High; 46 for Medium; 22 for Low]"
   ]
  },
  {
   "cell_type": "code",
   "execution_count": 43,
   "metadata": {},
   "outputs": [
    {
     "name": "stdout",
     "output_type": "stream",
     "text": [
      "/mnt/Kim_2/Job/Semi_cylinder_latest/1.0_c9ester/60pao_60ofm/5.shear_0.01G/1.continue/dumps_all\n"
     ]
    }
   ],
   "source": [
    "path_dumps = \"/mnt/Kim_2/Job/Semi_cylinder_latest/1.0_c9ester/60pao_60ofm/5.shear_0.01G/1.continue/dumps_all\"\n",
    "os.chdir(path_dumps)\n",
    "print(os.getcwd())"
   ]
  },
  {
   "cell_type": "code",
   "execution_count": 44,
   "metadata": {
    "ExecuteTime": {
     "end_time": "2022-02-17T06:53:59.126981Z",
     "start_time": "2022-02-17T06:53:59.120512Z"
    }
   },
   "outputs": [],
   "source": [
    "# path_dumps = path + \"/dumps_all\"\n",
    "\n",
    "if not os.path.exists(path + \"/Analyze\"):\n",
    "    os.makedirs(path + \"/Analyze\")\n",
    "path_Analyze = path + \"/Analyze\"\n",
    "\n",
    "# os.chdir(path_dumps)\n",
    "# print(os.getcwd())"
   ]
  },
  {
   "cell_type": "code",
   "execution_count": 45,
   "metadata": {
    "ExecuteTime": {
     "end_time": "2022-02-17T06:53:59.134240Z",
     "start_time": "2022-02-17T06:53:59.130019Z"
    }
   },
   "outputs": [],
   "source": [
    "dump_start = 6000000    \n",
    "dump_end =   11000000\n",
    "dump_interval = 2000\n",
    "\n",
    "FilmThickness = 20 # Å, Can be a little bigger than real film thickness\n",
    "#OFMnum = ?\n",
    "gap = 0.1           # The interval of each layer"
   ]
  },
  {
   "cell_type": "code",
   "execution_count": 46,
   "metadata": {
    "ExecuteTime": {
     "end_time": "2022-02-17T06:53:59.140353Z",
     "start_time": "2022-02-17T06:53:59.136014Z"
    }
   },
   "outputs": [
    {
     "name": "stdout",
     "output_type": "stream",
     "text": [
      "461.0504184999999\n"
     ]
    }
   ],
   "source": [
    "box_x = 130.813   # Å\n",
    "box_y = 35.245   # Å\n",
    "\n",
    "#Area = box_x * box_y   # Å^2, NOTE: It is better to use volume, not area! I have changed area to volume in EXCEL.\n",
    "\n",
    "Volume = box_x * box_y * gap    # Å^3 在这个新的程序里面，改成了直接除以体积，避免在excel里重新算\n",
    "\n",
    "print(Volume)"
   ]
  },
  {
   "attachments": {},
   "cell_type": "markdown",
   "metadata": {},
   "source": [
    "# 2 Program running"
   ]
  },
  {
   "cell_type": "code",
   "execution_count": 47,
   "metadata": {
    "ExecuteTime": {
     "end_time": "2022-02-17T06:53:59.155421Z",
     "start_time": "2022-02-17T06:53:59.144709Z"
    }
   },
   "outputs": [
    {
     "name": "stdout",
     "output_type": "stream",
     "text": [
      "[26.6696 26.6673 26.6518 ... 26.6846 26.7254 26.6532]\n"
     ]
    }
   ],
   "source": [
    "# 判断之前是否已经保存过基板的[最大][最小]坐标：若没有，则计算并输出保存；若有，则直接读取\n",
    "# 因为计算一次要花很长时间\n",
    "\n",
    "# 1. Find Max lower Fe\n",
    "if not os.path.isfile(path_Analyze + \"/Data_MaxLowerFe_Original\" + str(dump_start) + \"_\" + str(dump_interval) + \"_\" + str(dump_end) + \".txt\"):\n",
    "  \n",
    "  os.chdir(path_dumps)\n",
    "  atoms_traj = [pp.create(\n",
    "  pp.StaDumpAtoms(\"atom.{}.dump\".format(i), i))\n",
    "  for i in range(dump_start, dump_end, dump_interval)]\n",
    "\n",
    "  for atoms in atoms_traj:\n",
    "    atoms.append_updater(pp.FilSet({\"type\": {17}}))  # Type 17: Fe's type on lower interface\n",
    "\n",
    "  pro = pp.ProValueArray(atoms_traj)\n",
    "  pro.select(\"zu\")\n",
    "  pp.execute_omp(pro)\n",
    "  results = pro.get_results()\n",
    "  zu_array_Fe = results[\"zu\"]\n",
    "\n",
    "  MaxLowerFe = np.zeros(len(atoms_traj))\n",
    "  for i in range(len(atoms_traj)):\n",
    "      MaxLowerFe[i] = np.max(zu_array_Fe[i])  # Z_max for Fe in lower interface  \n",
    "  print(MaxLowerFe)\n",
    "\n",
    "  os.chdir(path_Analyze)\n",
    "  np.savetxt(\"Data_MaxLowerFe_Original\" + str(dump_start) + \"_\" + str(dump_interval) + \"_\" + str(dump_end) + \".txt\", MaxLowerFe, fmt='%f', delimiter=' ')\n",
    "\n",
    "else:\n",
    "  print(\"Will read MaxLowerFe directly from the previous saved file.\")\n",
    "  \n",
    "  \n"
   ]
  },
  {
   "cell_type": "code",
   "execution_count": 48,
   "metadata": {
    "ExecuteTime": {
     "end_time": "2022-02-17T06:53:59.179215Z",
     "start_time": "2022-02-17T06:53:59.158333Z"
    }
   },
   "outputs": [],
   "source": [
    "# Read MaxLowerFe and MinUpperFe from file no matter re-calculated or not.\n",
    "\n",
    "os.chdir(path_Analyze)\n",
    "MaxLowerFe = np.loadtxt(\n",
    "    \"Data_MaxLowerFe_Original\" + str(dump_start) + \"_\" + str(dump_interval) + \"_\" + str(dump_end) + \".txt\",\n",
    "    delimiter = \" \",\n",
    "    skiprows = 0,\n",
    ")"
   ]
  },
  {
   "cell_type": "code",
   "execution_count": 49,
   "metadata": {},
   "outputs": [],
   "source": [
    "# Get the smallest and largest x-coordinate of oxygen atoms in upper interface\n",
    "\n",
    "os.chdir(path_dumps)\n",
    "atoms_traj = [pp.create(\n",
    "pp.StaDumpAtoms(\"atom.{}.dump\".format(i), i))\n",
    "for i in range(dump_start, dump_end+2000, dump_interval)]\n",
    "\n",
    "for atoms in atoms_traj:\n",
    "    atoms.append_updater(pp.FilSet({\"type\": {24}}))  # Type 24: O's type on upper cylinder surface"
   ]
  },
  {
   "cell_type": "code",
   "execution_count": 50,
   "metadata": {},
   "outputs": [
    {
     "name": "stdout",
     "output_type": "stream",
     "text": [
      "[ 547.956  548.162  548.359 ... 1047.57  1047.73  1047.92 ]\n",
      "[ 583.072  583.305  583.488 ... 1082.68  1082.84  1083.08 ]\n"
     ]
    }
   ],
   "source": [
    "if not os.path.isfile(path_Analyze + \"/Data_Min_Oxu\" + str(dump_start) + \"_\" + str(dump_interval) + \"_\" + str(dump_end) + \".txt\"):\n",
    "    if not os.path.isfile(path_Analyze + \"/Data_Min_Oxu\" + str(dump_start) + \"_\" + str(dump_interval) + \"_\" + str(dump_end) + \".txt\"):\n",
    "        c = pp.ProValueArray(atoms_traj)\n",
    "        c.select(\"xu\")\n",
    "        pp.execute_omp(c)\n",
    "        results = c.get_results()\n",
    "    \n",
    "        xu_array_O = results[\"xu\"]\n",
    "        Min_Oxu = np.zeros(len(atoms_traj))\n",
    "        Max_Oxu = np.zeros(len(atoms_traj))\n",
    "        for i in range(len(atoms_traj)):\n",
    "            Min_Oxu[i] = np.min(xu_array_O[i])\n",
    "            Max_Oxu[i] = np.max(xu_array_O[i])\n",
    "        print(Min_Oxu)\n",
    "        print(Max_Oxu)\n",
    "    \n",
    "        os.chdir(path_Analyze)\n",
    "        np.savetxt(\"Data_Min_Oxu\" + str(dump_start) + \"_\" + str(dump_interval) + \"_\" + str(dump_end) + \".txt\", Min_Oxu, fmt='%f', delimiter=' ')\n",
    "        np.savetxt(\"Data_Max_Oxu\" + str(dump_start) + \"_\" + str(dump_interval) + \"_\" + str(dump_end) + \".txt\", Max_Oxu, fmt='%f', delimiter=' ')\n",
    "else:\n",
    "  print(\"Will read Min_Oxu,Max_Oxu directly from the previous saved file.\")"
   ]
  },
  {
   "cell_type": "code",
   "execution_count": 51,
   "metadata": {},
   "outputs": [],
   "source": [
    "os.chdir(path_Analyze)\n",
    "Min_Oxu = np.loadtxt(\n",
    "    \"Data_Min_Oxu\" + str(dump_start) + \"_\" + str(dump_interval) + \"_\" + str(dump_end) + \".txt\",\n",
    "    delimiter = \" \",\n",
    "    skiprows = 0,\n",
    ")\n",
    "Max_Oxu = np.loadtxt(\n",
    "    \"Data_Max_Oxu\" + str(dump_start) + \"_\" + str(dump_interval) + \"_\" + str(dump_end) + \".txt\",\n",
    "    delimiter = \" \",\n",
    "    skiprows = 0,\n",
    ")"
   ]
  },
  {
   "cell_type": "code",
   "execution_count": 52,
   "metadata": {},
   "outputs": [
    {
     "name": "stdout",
     "output_type": "stream",
     "text": [
      "[24.704 24.91  25.107 ...  1.066  1.226  1.416]\n",
      "[59.82  60.053 60.236 ... 36.176 36.336 36.576]\n"
     ]
    }
   ],
   "source": [
    "#Cylinder下部のMin_Oxu,Max_OxuをWrap\n",
    "for i in range (len(atoms_traj)):   \n",
    "    if Min_Oxu[i] < 0:\n",
    "        while Min_Oxu[i] < 0:\n",
    "            Min_Oxu[i] +=  box_x\n",
    "    elif Min_Oxu[i] > box_x:\n",
    "        while Min_Oxu[i] > box_x:\n",
    "            Min_Oxu[i] -= box_x\n",
    "\n",
    "for i in range (len(atoms_traj)):   \n",
    "    if Max_Oxu[i] < 0:\n",
    "        while Max_Oxu[i] < 0:\n",
    "         Max_Oxu[i] +=  box_x\n",
    "    elif Max_Oxu[i] > box_x:\n",
    "        while Max_Oxu[i] > box_x:\n",
    "         Max_Oxu[i] -= box_x\n",
    "\n",
    "print(Min_Oxu)\n",
    "print(Max_Oxu)"
   ]
  },
  {
   "attachments": {},
   "cell_type": "markdown",
   "metadata": {},
   "source": [
    "## 2.1 Cal mass density profile for PAO atoms"
   ]
  },
  {
   "cell_type": "code",
   "execution_count": 53,
   "metadata": {
    "ExecuteTime": {
     "end_time": "2022-02-17T06:53:59.208629Z",
     "start_time": "2022-02-17T06:53:59.181135Z"
    }
   },
   "outputs": [],
   "source": [
    "os.chdir(path_dumps)\n",
    "atoms_traj = [pp.create(\n",
    "  pp.StaDumpAtoms(\"atom.{}.dump\".format(i), i))\n",
    "  for i in range(dump_start, dump_end, dump_interval)]"
   ]
  },
  {
   "cell_type": "code",
   "execution_count": 54,
   "metadata": {
    "ExecuteTime": {
     "end_time": "2022-02-17T06:53:59.216727Z",
     "start_time": "2022-02-17T06:53:59.211482Z"
    }
   },
   "outputs": [
    {
     "data": {
      "text/plain": [
       "2500"
      ]
     },
     "execution_count": 54,
     "metadata": {},
     "output_type": "execute_result"
    }
   ],
   "source": [
    "len(atoms_traj)"
   ]
  },
  {
   "cell_type": "code",
   "execution_count": 55,
   "metadata": {
    "ExecuteTime": {
     "end_time": "2022-02-17T06:54:47.147226Z",
     "start_time": "2022-02-17T06:53:59.219316Z"
    }
   },
   "outputs": [
    {
     "name": "stdout",
     "output_type": "stream",
     "text": [
      "[[1. 1. 1. ... 3. 3. 3.]\n",
      " [1. 1. 1. ... 3. 3. 3.]\n",
      " [1. 1. 1. ... 3. 3. 3.]\n",
      " ...\n",
      " [1. 1. 1. ... 3. 3. 3.]\n",
      " [1. 1. 1. ... 3. 3. 3.]\n",
      " [1. 1. 1. ... 3. 3. 3.]]\n"
     ]
    }
   ],
   "source": [
    "for atoms in atoms_traj:\n",
    "    atoms.append_updater(pp.FilSet({\"type\": {1,2,3}}))  \n",
    "    # 1: C     2: C     3: H\n",
    "\n",
    "pro = pp.ProValueArray(atoms_traj)\n",
    "pro.select(\"zu\",\"type\",\"xu\")\n",
    "\n",
    "pp.execute_omp(pro)\n",
    "\n",
    "results = pro.get_results()\n",
    "\n",
    "zu_array = results[\"zu\"]\n",
    "type_array = results[\"type\"]\n",
    "xu_array = results[\"xu\"]\n",
    "\n",
    "print(type_array)"
   ]
  },
  {
   "cell_type": "code",
   "execution_count": 56,
   "metadata": {},
   "outputs": [
    {
     "name": "stdout",
     "output_type": "stream",
     "text": [
      "2500\n"
     ]
    }
   ],
   "source": [
    "# total number of atoms selected \n",
    "num_elements = len(zu_array)\n",
    "print(num_elements)\n",
    "atom_num = 7320            # 1: C     2: C     3: H"
   ]
  },
  {
   "cell_type": "code",
   "execution_count": 57,
   "metadata": {},
   "outputs": [
    {
     "name": "stdout",
     "output_type": "stream",
     "text": [
      "[[ 79.27   80.179  79.646 ... 118.436 117.494 117.123]\n",
      " [ 79.503  79.723  80.238 ... 118.45  118.376 117.094]\n",
      " [ 80.11   80.196  81.062 ... 122.276 123.211 121.736]\n",
      " ...\n",
      " [ 56.133  57.059  58.351 ... 121.194 119.975 120.56 ]\n",
      " [ 56.51   57.162  58.687 ... 122.643 121.201 121.939]\n",
      " [ 57.053  57.988  59.373 ... 121.304 120.717 121.059]]\n"
     ]
    }
   ],
   "source": [
    "for i in range (len(atoms_traj)):   \n",
    "    for j in range (atom_num):    #7320\n",
    "        if xu_array[i][j] < 0:\n",
    "            while xu_array[i][j]<0:\n",
    "                xu_array[i][j] = xu_array[i][j]+box_x\n",
    "        elif xu_array[i][j] > box_x:\n",
    "            while xu_array[i][j]>box_x:\n",
    "                xu_array[i][j] -= box_x\n",
    "        xu_array[i][j] = round(xu_array[i][j], 4)\n",
    "print(xu_array)"
   ]
  },
  {
   "cell_type": "code",
   "execution_count": 58,
   "metadata": {
    "ExecuteTime": {
     "end_time": "2022-02-17T06:55:55.787295Z",
     "start_time": "2022-02-17T06:54:47.148584Z"
    },
    "tags": []
   },
   "outputs": [
    {
     "name": "stdout",
     "output_type": "stream",
     "text": [
      "[0. 0. 0. ... 0. 0. 0.]\n"
     ]
    }
   ],
   "source": [
    "Mass_C = np.zeros(5000)\n",
    "Mass_H = np.zeros(5000) \n",
    "z = np.zeros(5000) \n",
    "\n",
    "\n",
    "for i in range (len(atoms_traj)):\n",
    "    for j in range (atom_num): \n",
    "\n",
    "      layer_C = (zu_array[i][j] - MaxLowerFe[i]) // gap   # 0.3//0.5=0; 0.9//0.5=1.0; 1.1//0.5=2.0\n",
    "      if Min_Oxu[i] < Max_Oxu[i]:\n",
    "        if Min_Oxu[i]<=xu_array[i][j]<=Max_Oxu[i]:\n",
    "\n",
    "\n",
    "          if type_array[i][j] == 1 or type_array[i][j] == 2 :\n",
    "            Mass_C[int(layer_C)] = Mass_C[int(layer_C)] + 12\n",
    "          \n",
    "          if type_array[i][j] == 3 :\n",
    "            Mass_H[int(layer_C)] = Mass_H[int(layer_C)] + 1\n",
    "            \n",
    "      elif Min_Oxu[i] > Max_Oxu[i]:\n",
    "        if Min_Oxu[i]<=xu_array[i][j] or xu_array[i][j]<=Max_Oxu[i]:\n",
    "\n",
    "\n",
    "          if type_array[i][j] == 1 or type_array[i][j] == 2 :\n",
    "            Mass_C[int(layer_C)] = Mass_C[int(layer_C)] + 12\n",
    "          \n",
    "          if type_array[i][j] == 3 :\n",
    "            Mass_H[int(layer_C)] = Mass_H[int(layer_C)] + 1\n",
    "\n",
    "      \n",
    "            \n",
    "Mass_C = Mass_C / len(atoms_traj)  \n",
    "Density_C = Mass_C / Volume  \n",
    "Mass_H = Mass_H / len(atoms_traj)  \n",
    "Density_H = Mass_H / Volume  \n",
    "\n",
    "Density = (Density_C + Density_H)*(1.661129568)   \n",
    "\n",
    "print(Density)\n",
    "\n",
    "for i in range( int(FilmThickness/gap) ):\n",
    "    z[i+1] = z[i] + gap"
   ]
  },
  {
   "cell_type": "code",
   "execution_count": 59,
   "metadata": {
    "ExecuteTime": {
     "end_time": "2022-02-17T06:55:55.873416Z",
     "start_time": "2022-02-17T06:55:55.788638Z"
    }
   },
   "outputs": [
    {
     "data": {
      "text/plain": [
       "[<matplotlib.lines.Line2D at 0x7fb8b393beb8>]"
      ]
     },
     "execution_count": 59,
     "metadata": {},
     "output_type": "execute_result"
    },
    {
     "data": {
      "image/png": "[encoded data removed]",
      "text/plain": [
       "<Figure size 432x288 with 1 Axes>"
      ]
     },
     "metadata": {
      "needs_background": "light"
     },
     "output_type": "display_data"
    }
   ],
   "source": [
    "x = z\n",
    "y1 = Density\n",
    "plt.plot(x, y1, label = 'PAO')"
   ]
  },
  {
   "cell_type": "code",
   "execution_count": 60,
   "metadata": {
    "ExecuteTime": {
     "end_time": "2022-02-17T06:55:55.878907Z",
     "start_time": "2022-02-17T06:55:55.874404Z"
    }
   },
   "outputs": [],
   "source": [
    "os.chdir(path_Analyze)\n",
    "\n",
    "# --------- PAO ---------\n",
    "wf = open(\"Data_\" + \"massd_pao\" + \".txt\", \"w\")\n",
    "wf.write( \"Total number of dumps: \" + str(len(atoms_traj)) + \"\\n\\n\" )\n",
    "wf.write( \"z[A]\\tmass_density_pao[g/cm^3]\\n\" )\n",
    "\n",
    "#wf.write( \"z[Å]\\tNDD(C)[/Å^3]\\n\" )\n",
    "for i in range( int(FilmThickness/gap) ):\n",
    "    wf.write(str(round(z[i],2)) + \"\\t\" + str(Density[i]) + \"\\n\")\n",
    "\n",
    "\n",
    "wf.close()"
   ]
  },
  {
   "attachments": {},
   "cell_type": "markdown",
   "metadata": {},
   "source": [
    "## 2.1 Cal mass density for c9ester OFM"
   ]
  },
  {
   "cell_type": "code",
   "execution_count": 61,
   "metadata": {},
   "outputs": [
    {
     "name": "stdout",
     "output_type": "stream",
     "text": [
      "Will read MaxLowerFe directly from the previous saved file.\n"
     ]
    }
   ],
   "source": [
    "# 判断之前是否已经保存过基板的[最大][最小]坐标：若没有，则计算并输出保存；若有，则直接读取\n",
    "# 因为计算一次要花很长时间\n",
    "\n",
    "# 1. Find Max lower Fe\n",
    "if not os.path.isfile(path_Analyze + \"/Data_MaxLowerFe_Original\" + str(dump_start) + \"_\" + str(dump_interval) + \"_\" + str(dump_end) + \".txt\"):\n",
    "  \n",
    "  os.chdir(path_dumps)\n",
    "  atoms_traj = [pp.create(\n",
    "  pp.StaDumpAtoms(\"atom.{}.dump\".format(i), i))\n",
    "  for i in range(dump_start, dump_end, dump_interval)]\n",
    "\n",
    "  for atoms in atoms_traj:\n",
    "    atoms.append_updater(pp.FilSet({\"type\": {17}}))  # Type 17: Fe's type on lower interface\n",
    "\n",
    "  pro = pp.ProValueArray(atoms_traj)\n",
    "  pro.select(\"zu\")\n",
    "  pp.execute_omp(pro)\n",
    "  results = pro.get_results()\n",
    "  zu_array_Fe = results[\"zu\"]\n",
    "\n",
    "  MaxLowerFe = np.zeros(len(atoms_traj))\n",
    "  for i in range(len(atoms_traj)):\n",
    "      MaxLowerFe[i] = np.max(zu_array_Fe[i])  # Z_max for Fe in lower interface  \n",
    "  print(MaxLowerFe)\n",
    "\n",
    "  os.chdir(path_Analyze)\n",
    "  np.savetxt(\"Data_MaxLowerFe_Original\" + str(dump_start) + \"_\" + str(dump_interval) + \"_\" + str(dump_end) + \".txt\", MaxLowerFe, fmt='%f', delimiter=' ')\n",
    "\n",
    "else:\n",
    "  print(\"Will read MaxLowerFe directly from the previous saved file.\")"
   ]
  },
  {
   "cell_type": "code",
   "execution_count": 62,
   "metadata": {},
   "outputs": [],
   "source": [
    "# Read MaxLowerFe and MinUpperFe from file no matter re-calculated or not.\n",
    "\n",
    "os.chdir(path_Analyze)\n",
    "MaxLowerFe = np.loadtxt(\n",
    "    \"Data_MaxLowerFe_Original\" + str(dump_start) + \"_\" + str(dump_interval) + \"_\" + str(dump_end) + \".txt\",\n",
    "    delimiter = \" \",\n",
    "    skiprows = 0,\n",
    ")"
   ]
  },
  {
   "cell_type": "code",
   "execution_count": 63,
   "metadata": {},
   "outputs": [],
   "source": [
    "# Get the smallest and largest x-coordinate of oxygen atoms in upper interface\n",
    "\n",
    "os.chdir(path_dumps)\n",
    "atoms_traj = [pp.create(\n",
    "pp.StaDumpAtoms(\"atom.{}.dump\".format(i), i))\n",
    "for i in range(dump_start, dump_end+2000, dump_interval)]\n",
    "\n",
    "for atoms in atoms_traj:\n",
    "    atoms.append_updater(pp.FilSet({\"type\": {24}}))  # Type 24: O's type on upper cylinder surface"
   ]
  },
  {
   "cell_type": "code",
   "execution_count": 64,
   "metadata": {},
   "outputs": [
    {
     "name": "stdout",
     "output_type": "stream",
     "text": [
      "Will read Min_Oxu,Max_Oxu directly from the previous saved file.\n"
     ]
    }
   ],
   "source": [
    "if not os.path.isfile(path_Analyze + \"/Data_Min_Oxu\" + str(dump_start) + \"_\" + str(dump_interval) + \"_\" + str(dump_end) + \".txt\"):\n",
    "    if not os.path.isfile(path_Analyze + \"/Data_Min_Oxu\" + str(dump_start) + \"_\" + str(dump_interval) + \"_\" + str(dump_end) + \".txt\"):\n",
    "        c = pp.ProValueArray(atoms_traj)\n",
    "        c.select(\"xu\")\n",
    "        pp.execute_omp(c)\n",
    "        results = c.get_results()\n",
    "    \n",
    "        xu_array_O = results[\"xu\"]\n",
    "        Min_Oxu = np.zeros(len(atoms_traj))\n",
    "        Max_Oxu = np.zeros(len(atoms_traj))\n",
    "        for i in range(len(atoms_traj)):\n",
    "            Min_Oxu[i] = np.min(xu_array_O[i])\n",
    "            Max_Oxu[i] = np.max(xu_array_O[i])\n",
    "        print(Min_Oxu)\n",
    "        print(Max_Oxu)\n",
    "    \n",
    "        os.chdir(path_Analyze)\n",
    "        np.savetxt(\"Data_Min_Oxu\" + str(dump_start) + \"_\" + str(dump_interval) + \"_\" + str(dump_end) + \".txt\", Min_Oxu, fmt='%f', delimiter=' ')\n",
    "        np.savetxt(\"Data_Max_Oxu\" + str(dump_start) + \"_\" + str(dump_interval) + \"_\" + str(dump_end) + \".txt\", Max_Oxu, fmt='%f', delimiter=' ')\n",
    "else:\n",
    "  print(\"Will read Min_Oxu,Max_Oxu directly from the previous saved file.\")"
   ]
  },
  {
   "cell_type": "code",
   "execution_count": 65,
   "metadata": {},
   "outputs": [],
   "source": [
    "os.chdir(path_Analyze)\n",
    "Min_Oxu = np.loadtxt(\n",
    "    \"Data_Min_Oxu\" + str(dump_start) + \"_\" + str(dump_interval) + \"_\" + str(dump_end) + \".txt\",\n",
    "    delimiter = \" \",\n",
    "    skiprows = 0,\n",
    ")\n",
    "Max_Oxu = np.loadtxt(\n",
    "    \"Data_Max_Oxu\" + str(dump_start) + \"_\" + str(dump_interval) + \"_\" + str(dump_end) + \".txt\",\n",
    "    delimiter = \" \",\n",
    "    skiprows = 0,\n",
    ")"
   ]
  },
  {
   "cell_type": "code",
   "execution_count": 66,
   "metadata": {},
   "outputs": [
    {
     "name": "stdout",
     "output_type": "stream",
     "text": [
      "[24.704 24.91  25.107 ...  1.066  1.226  1.416]\n",
      "[59.82  60.053 60.236 ... 36.176 36.336 36.576]\n"
     ]
    }
   ],
   "source": [
    "#Cylinder下部のMin_Oxu,Max_OxuをWrap\n",
    "for i in range (len(atoms_traj)):   \n",
    "    if Min_Oxu[i] < 0:\n",
    "        while Min_Oxu[i] < 0:\n",
    "            Min_Oxu[i] +=  box_x\n",
    "    elif Min_Oxu[i] > box_x:\n",
    "        while Min_Oxu[i] > box_x:\n",
    "            Min_Oxu[i] -= box_x\n",
    "\n",
    "for i in range (len(atoms_traj)):   \n",
    "    if Max_Oxu[i] < 0:\n",
    "        while Max_Oxu[i] < 0:\n",
    "         Max_Oxu[i] +=  box_x\n",
    "    elif Max_Oxu[i] > box_x:\n",
    "        while Max_Oxu[i] > box_x:\n",
    "         Max_Oxu[i] -= box_x\n",
    "\n",
    "print(Min_Oxu)\n",
    "print(Max_Oxu)"
   ]
  },
  {
   "cell_type": "code",
   "execution_count": 67,
   "metadata": {},
   "outputs": [],
   "source": [
    "os.chdir(path_dumps)\n",
    "atoms_traj = [pp.create(\n",
    "  pp.StaDumpAtoms(\"atom.{}.dump\".format(i), i))\n",
    "  for i in range(dump_start, dump_end, dump_interval)]"
   ]
  },
  {
   "cell_type": "code",
   "execution_count": 68,
   "metadata": {},
   "outputs": [
    {
     "data": {
      "text/plain": [
       "2500"
      ]
     },
     "execution_count": 68,
     "metadata": {},
     "output_type": "execute_result"
    }
   ],
   "source": [
    "len(atoms_traj)"
   ]
  },
  {
   "cell_type": "code",
   "execution_count": 69,
   "metadata": {},
   "outputs": [
    {
     "name": "stdout",
     "output_type": "stream",
     "text": [
      "[[ 4.  4.  4. ...  5. 11.  5.]\n",
      " [ 4.  4.  4. ...  5. 11.  5.]\n",
      " [ 4.  4.  4. ...  5. 11.  5.]\n",
      " ...\n",
      " [ 4.  4.  4. ...  5. 11.  5.]\n",
      " [ 4.  4.  4. ...  5. 11.  5.]\n",
      " [ 4.  4.  4. ...  5. 11.  5.]]\n"
     ]
    }
   ],
   "source": [
    "for atoms in atoms_traj:\n",
    "    atoms.append_updater(pp.FilSet({\"type\": {4,5,6,7,8,9,10,11}}))  \n",
    "    # 1: C     2: C     3: H\n",
    "\n",
    "pro = pp.ProValueArray(atoms_traj)\n",
    "pro.select(\"zu\",\"type\",\"xu\")\n",
    "\n",
    "pp.execute_omp(pro)\n",
    "\n",
    "results = pro.get_results()\n",
    "\n",
    "zu_array = results[\"zu\"]\n",
    "type_array = results[\"type\"]\n",
    "xu_array = results[\"xu\"]\n",
    "\n",
    "print(type_array)"
   ]
  },
  {
   "cell_type": "code",
   "execution_count": 70,
   "metadata": {},
   "outputs": [],
   "source": [
    "# total number of atoms selected \n",
    "\n",
    "atom_num = 3360           "
   ]
  },
  {
   "cell_type": "code",
   "execution_count": 71,
   "metadata": {},
   "outputs": [
    {
     "name": "stdout",
     "output_type": "stream",
     "text": [
      "[[ 74.442   73.3981  73.4967 ... 113.575  107.472   99.3473]\n",
      " [ 74.8875  73.5306  74.1689 ... 113.878  108.108   99.9114]\n",
      " [ 74.8351  73.7047  73.7985 ... 113.327  107.487   99.5839]\n",
      " ...\n",
      " [ 73.7031  73.3425  73.9123 ... 111.778  107.157  102.367 ]\n",
      " [ 73.5339  72.9623  74.5932 ... 112.622  108.028  101.477 ]\n",
      " [ 73.2606  72.8862  74.4428 ... 112.234  107.818  100.681 ]]\n"
     ]
    }
   ],
   "source": [
    "for i in range (len(atoms_traj)):   \n",
    "    for j in range (atom_num):    \n",
    "        if xu_array[i][j] < 0:\n",
    "            while xu_array[i][j]<0:\n",
    "                xu_array[i][j] = xu_array[i][j]+box_x\n",
    "        elif xu_array[i][j] > box_x:\n",
    "            while xu_array[i][j]>box_x:\n",
    "                xu_array[i][j] -= box_x\n",
    "        xu_array[i][j] = round(xu_array[i][j], 4)\n",
    "print(xu_array)"
   ]
  },
  {
   "cell_type": "code",
   "execution_count": 72,
   "metadata": {},
   "outputs": [
    {
     "name": "stdout",
     "output_type": "stream",
     "text": [
      "[0. 0. 0. ... 0. 0. 0.]\n"
     ]
    }
   ],
   "source": [
    "Mass_C = np.zeros(5000)\n",
    "Mass_H = np.zeros(5000) \n",
    "Mass_O = np.zeros(5000)\n",
    "Mass_N = np.zeros(5000)\n",
    "z = np.zeros(5000) \n",
    "\n",
    "\n",
    "for i in range (len(atoms_traj)):\n",
    "    for j in range (atom_num): \n",
    "\n",
    "      layer_C = (zu_array[i][j] - MaxLowerFe[i]) // gap   # 0.3//0.5=0; 0.9//0.5=1.0; 1.1//0.5=2.0\n",
    "\n",
    "      if Min_Oxu[i] < Max_Oxu[i]:\n",
    "        if Min_Oxu[i]<=xu_array[i][j]<=Max_Oxu[i]:\n",
    "\n",
    "            if type_array[i][j] == 4 or type_array[i][j] == 6 or type_array[i][j] == 7:\n",
    "                Mass_C[int(layer_C)] = Mass_C[int(layer_C)] + 12\n",
    "            \n",
    "            if type_array[i][j] == 5:\n",
    "                Mass_H[int(layer_C)] = Mass_H[int(layer_C)] + 1\n",
    "\n",
    "            if type_array[i][j] == 8 or type_array[i][j] == 10 or type_array[i][j] == 11:\n",
    "                Mass_O[int(layer_C)] = Mass_O[int(layer_C)] + 16\n",
    "            \n",
    "            if type_array[i][j] == 9 :\n",
    "                Mass_N[int(layer_C)] = Mass_N[int(layer_C)] + 14\n",
    "\n",
    "\n",
    "\n",
    "      elif Min_Oxu[i] > Max_Oxu[i]:\n",
    "        if Min_Oxu[i]<=xu_array[i][j] or xu_array[i][j]<=Max_Oxu[i]:\n",
    "\n",
    "            if type_array[i][j] == 4 or type_array[i][j] == 6 or type_array[i][j] == 7:\n",
    "                Mass_C[int(layer_C)] = Mass_C[int(layer_C)] + 12\n",
    "            \n",
    "            if type_array[i][j] == 5:\n",
    "                Mass_H[int(layer_C)] = Mass_H[int(layer_C)] + 1\n",
    "\n",
    "            if type_array[i][j] == 8 or type_array[i][j] == 10 or type_array[i][j] == 11:\n",
    "                Mass_O[int(layer_C)] = Mass_O[int(layer_C)] + 16\n",
    "            \n",
    "            if type_array[i][j] == 9 :\n",
    "                Mass_N[int(layer_C)] = Mass_N[int(layer_C)] + 14\n",
    "\n",
    "      \n",
    "            \n",
    "Mass_C = Mass_C / len(atoms_traj)  \n",
    "Density_C = Mass_C / Volume  \n",
    "Mass_H = Mass_H / len(atoms_traj)  \n",
    "Density_H = Mass_H / Volume  \n",
    "Mass_O = Mass_O / len(atoms_traj)  \n",
    "Density_O = Mass_O / Volume  \n",
    "Mass_N = Mass_N / len(atoms_traj)  \n",
    "Density_N = Mass_N / Volume  \n",
    "\n",
    "Density_OFM = (Density_C + Density_H + Density_O + Density_N)*(1.661129568)   \n",
    "\n",
    "print(Density_OFM)\n",
    "\n",
    "for i in range( int(FilmThickness/gap) ):\n",
    "    z[i+1] = z[i] + gap"
   ]
  },
  {
   "cell_type": "code",
   "execution_count": 78,
   "metadata": {},
   "outputs": [],
   "source": [
    "os.chdir(path_Analyze)\n",
    "\n",
    "# --------- OFM ---------\n",
    "wf = open(\"Data_\" + \"massd_c9ester_OFM\" + \".txt\", \"w\")\n",
    "wf.write( \"Total number of dumps: \" + str(len(atoms_traj)) + \"\\n\\n\" )\n",
    "wf.write( \"z[A]\\tmass_density_c9ester[g/cm^3]\\n\" )\n",
    "\n",
    "#wf.write( \"z[Å]\\tNDD(C)[/Å^3]\\n\" )\n",
    "for i in range( int(FilmThickness/gap) ):\n",
    "    wf.write(str(round(z[i],2)) + \"\\t\" + str(Density_OFM[i]) + \"\\n\")"
   ]
  },
  {
   "cell_type": "code",
   "execution_count": 74,
   "metadata": {},
   "outputs": [
    {
     "data": {
      "text/plain": [
       "[<matplotlib.lines.Line2D at 0x7fb8b398f9e8>]"
      ]
     },
     "execution_count": 74,
     "metadata": {},
     "output_type": "execute_result"
    },
    {
     "data": {
      "image/png": "[encoded data removed]",
      "text/plain": [
       "<Figure size 432x288 with 1 Axes>"
      ]
     },
     "metadata": {
      "needs_background": "light"
     },
     "output_type": "display_data"
    }
   ],
   "source": [
    "x = z\n",
    "y2 = Density_OFM\n",
    "\n",
    "plt.plot(x, y2, label = 'OFM')"
   ]
  },
  {
   "cell_type": "code",
   "execution_count": 75,
   "metadata": {},
   "outputs": [
    {
     "data": {
      "image/png": "[encoded data removed]",
      "text/plain": [
       "<Figure size 432x288 with 1 Axes>"
      ]
     },
     "metadata": {
      "needs_background": "light"
     },
     "output_type": "display_data"
    }
   ],
   "source": [
    "x = z\n",
    "y1 = Density\n",
    "plt.plot(x, y1, label = 'PAO')\n",
    "y2 = Density_OFM\n",
    "plt.plot(x, y2, label = 'OFM')\n",
    "plt.legend()\n",
    "plt.show()"
   ]
  },
  {
   "cell_type": "code",
   "execution_count": 76,
   "metadata": {},
   "outputs": [
    {
     "data": {
      "image/png": "[encoded data removed]",
      "text/plain": [
       "<Figure size 432x288 with 1 Axes>"
      ]
     },
     "metadata": {
      "needs_background": "light"
     },
     "output_type": "display_data"
    }
   ],
   "source": [
    "x = z\n",
    "y1 = Density\n",
    "plt.plot(x, y1, label = 'PAO')\n",
    "y2 = Density_OFM\n",
    "plt.plot(x, y2, label = 'OFM')\n",
    "plt.legend()\n",
    "plt.show()"
   ]
  }
 ],
 "metadata": {
  "kernelspec": {
   "display_name": "Python 3",
   "language": "python",
   "name": "python3"
  },
  "language_info": {
   "codemirror_mode": {
    "name": "ipython",
    "version": 3
   },
   "file_extension": ".py",
   "mimetype": "text/x-python",
   "name": "python",
   "nbconvert_exporter": "python",
   "pygments_lexer": "ipython3",
   "version": "3.6.10"
  },
  "metadata": {
   "interpreter": {
    "hash": "ac2eaa0ea0ebeafcc7822e65e46aa9d4f966f30b695406963e145ea4a91cd4fc"
   }
  },
  "toc": {
   "base_numbering": 1,
   "nav_menu": {},
   "number_sections": true,
   "sideBar": true,
   "skip_h1_title": true,
   "title_cell": "Table of Contents",
   "title_sidebar": "Contents",
   "toc_cell": false,
   "toc_position": {
    "height": "calc(100% - 180px)",
    "left": "10px",
    "top": "150px",
    "width": "384px"
   },
   "toc_section_display": true,
   "toc_window_display": false
  }
 },
 "nbformat": 4,
 "nbformat_minor": 4
}
