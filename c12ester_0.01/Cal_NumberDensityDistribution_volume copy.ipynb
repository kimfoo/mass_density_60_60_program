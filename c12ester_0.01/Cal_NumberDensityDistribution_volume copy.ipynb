{
 "cells": [
  {
   "attachments": {},
   "cell_type": "markdown",
   "metadata": {
    "hide_input": true
   },
   "source": [
    "# 1 Parameter setting"
   ]
  },
  {
   "cell_type": "code",
   "execution_count": 2,
   "metadata": {
    "ExecuteTime": {
     "end_time": "2022-02-17T06:53:59.107376Z",
     "start_time": "2022-02-17T06:53:59.103158Z"
    }
   },
   "outputs": [],
   "source": [
    "import os\n",
    "import ppap4lmp as pp\n",
    "import numpy as np\n",
    "import matplotlib.pyplot as plt\n"
   ]
  },
  {
   "cell_type": "code",
   "execution_count": 4,
   "metadata": {
    "ExecuteTime": {
     "end_time": "2022-02-17T06:53:59.117062Z",
     "start_time": "2022-02-17T06:53:59.110269Z"
    }
   },
   "outputs": [
    {
     "name": "stdout",
     "output_type": "stream",
     "text": [
      "Files in '/home/yang/kimberly/mass_density/c12ester_0.01': ['dumps_all', 'Cal_NumberDensityDistribution_volume.ipynb', 'Analyze', 'Cal_NumberDensityDistribution_volume copy.ipynb']\n"
     ]
    }
   ],
   "source": [
    "cwd = os.getcwd()\n",
    "files = os.listdir(cwd)  # Get all the files in that directory\n",
    "print(\"Files in %r: %s\" % (cwd, files))\n",
    "\n",
    "path = \"/home/yang/kimberly/mass_density/c12ester_0.01\"\n",
    "\n",
    "OFMnum = 60          # Number of OFMs ------ [92 for High; 46 for Medium; 22 for Low]"
   ]
  },
  {
   "cell_type": "code",
   "execution_count": 6,
   "metadata": {},
   "outputs": [
    {
     "name": "stdout",
     "output_type": "stream",
     "text": [
      "/mnt/Kim/Job/Semi_cylinder_latest/3.0_c12ester/60pao_60ofm/5.shear_0.01G/dumps_all\n"
     ]
    }
   ],
   "source": [
    "path_dumps = \"/mnt/Kim/Job/Semi_cylinder_latest/3.0_c12ester/60pao_60ofm/5.shear_0.01G/dumps_all\"\n",
    "os.chdir(path_dumps)\n",
    "print(os.getcwd())"
   ]
  },
  {
   "cell_type": "code",
   "execution_count": 8,
   "metadata": {
    "ExecuteTime": {
     "end_time": "2022-02-17T06:53:59.126981Z",
     "start_time": "2022-02-17T06:53:59.120512Z"
    }
   },
   "outputs": [],
   "source": [
    "# path_dumps = path + \"/dumps_all\"\n",
    "\n",
    "if not os.path.exists(path + \"/Analyze\"):\n",
    "    os.makedirs(path + \"/Analyze\")\n",
    "path_Analyze = path + \"/Analyze\"\n",
    "\n",
    "# os.chdir(path_dumps)\n",
    "# print(os.getcwd())"
   ]
  },
  {
   "cell_type": "code",
   "execution_count": 10,
   "metadata": {
    "ExecuteTime": {
     "end_time": "2022-02-17T06:53:59.134240Z",
     "start_time": "2022-02-17T06:53:59.130019Z"
    }
   },
   "outputs": [],
   "source": [
    "dump_start = 7000000    #20496000\n",
    "dump_end =   12000000\n",
    "dump_interval = 2000\n",
    "\n",
    "FilmThickness = 20 # Å, Can be a little bigger than real film thickness\n",
    "#OFMnum = ?\n",
    "gap = 0.1           # The interval of each layer"
   ]
  },
  {
   "cell_type": "code",
   "execution_count": 11,
   "metadata": {
    "ExecuteTime": {
     "end_time": "2022-02-17T06:53:59.140353Z",
     "start_time": "2022-02-17T06:53:59.136014Z"
    }
   },
   "outputs": [
    {
     "name": "stdout",
     "output_type": "stream",
     "text": [
      "461.0504184999999\n"
     ]
    }
   ],
   "source": [
    "box_x = 130.813   # Å\n",
    "box_y = 35.245   # Å\n",
    "\n",
    "#Area = box_x * box_y   # Å^2, NOTE: It is better to use volume, not area! I have changed area to volume in EXCEL.\n",
    "\n",
    "Volume = box_x * box_y * gap    # Å^3 在这个新的程序里面，改成了直接除以体积，避免在excel里重新算\n",
    "\n",
    "print(Volume)"
   ]
  },
  {
   "attachments": {},
   "cell_type": "markdown",
   "metadata": {},
   "source": [
    "# 2 Program running"
   ]
  },
  {
   "cell_type": "code",
   "execution_count": 12,
   "metadata": {
    "ExecuteTime": {
     "end_time": "2022-02-17T06:53:59.155421Z",
     "start_time": "2022-02-17T06:53:59.144709Z"
    }
   },
   "outputs": [
    {
     "name": "stdout",
     "output_type": "stream",
     "text": [
      "Will read MaxLowerFe directly from the previous saved file.\n"
     ]
    }
   ],
   "source": [
    "# 判断之前是否已经保存过基板的[最大][最小]坐标：若没有，则计算并输出保存；若有，则直接读取\n",
    "# 因为计算一次要花很长时间\n",
    "\n",
    "# 1. Find Max lower Fe\n",
    "if not os.path.isfile(path_Analyze + \"/Data_MaxLowerFe_Original\" + str(dump_start) + \"_\" + str(dump_interval) + \"_\" + str(dump_end) + \".txt\"):\n",
    "  \n",
    "  os.chdir(path_dumps)\n",
    "  atoms_traj = [pp.create(\n",
    "  pp.StaDumpAtoms(\"atom.{}.dump\".format(i), i))\n",
    "  for i in range(dump_start, dump_end, dump_interval)]\n",
    "\n",
    "  for atoms in atoms_traj:\n",
    "    atoms.append_updater(pp.FilSet({\"type\": {17}}))  # Type 17: Fe's type on lower interface\n",
    "\n",
    "  pro = pp.ProValueArray(atoms_traj)\n",
    "  pro.select(\"zu\")\n",
    "  pp.execute_omp(pro)\n",
    "  results = pro.get_results()\n",
    "  zu_array_Fe = results[\"zu\"]\n",
    "\n",
    "  MaxLowerFe = np.zeros(len(atoms_traj))\n",
    "  for i in range(len(atoms_traj)):\n",
    "      MaxLowerFe[i] = np.max(zu_array_Fe[i])  # Z_max for Fe in lower interface  \n",
    "  print(MaxLowerFe)\n",
    "\n",
    "  os.chdir(path_Analyze)\n",
    "  np.savetxt(\"Data_MaxLowerFe_Original\" + str(dump_start) + \"_\" + str(dump_interval) + \"_\" + str(dump_end) + \".txt\", MaxLowerFe, fmt='%f', delimiter=' ')\n",
    "\n",
    "else:\n",
    "  print(\"Will read MaxLowerFe directly from the previous saved file.\")\n",
    "  \n",
    "  \n"
   ]
  },
  {
   "cell_type": "code",
   "execution_count": 13,
   "metadata": {
    "ExecuteTime": {
     "end_time": "2022-02-17T06:53:59.179215Z",
     "start_time": "2022-02-17T06:53:59.158333Z"
    }
   },
   "outputs": [],
   "source": [
    "# Read MaxLowerFe and MinUpperFe from file no matter re-calculated or not.\n",
    "\n",
    "os.chdir(path_Analyze)\n",
    "MaxLowerFe = np.loadtxt(\n",
    "    \"Data_MaxLowerFe_Original\" + str(dump_start) + \"_\" + str(dump_interval) + \"_\" + str(dump_end) + \".txt\",\n",
    "    delimiter = \" \",\n",
    "    skiprows = 0,\n",
    ")"
   ]
  },
  {
   "cell_type": "code",
   "execution_count": 14,
   "metadata": {},
   "outputs": [],
   "source": [
    "# Get the smallest and largest x-coordinate of oxygen atoms in upper interface\n",
    "\n",
    "os.chdir(path_dumps)\n",
    "atoms_traj = [pp.create(\n",
    "pp.StaDumpAtoms(\"atom.{}.dump\".format(i), i))\n",
    "for i in range(dump_start, dump_end+2000, dump_interval)]\n",
    "\n",
    "for atoms in atoms_traj:\n",
    "    atoms.append_updater(pp.FilSet({\"type\": {24}}))  # Type 24: O's type on upper cylinder surface"
   ]
  },
  {
   "cell_type": "code",
   "execution_count": 15,
   "metadata": {},
   "outputs": [
    {
     "name": "stdout",
     "output_type": "stream",
     "text": [
      "Will read Min_Oxu,Max_Oxu directly from the previous saved file.\n"
     ]
    }
   ],
   "source": [
    "if not os.path.isfile(path_Analyze + \"/Data_Min_Oxu\" + str(dump_start) + \"_\" + str(dump_interval) + \"_\" + str(dump_end) + \".txt\"):\n",
    "    if not os.path.isfile(path_Analyze + \"/Data_Min_Oxu\" + str(dump_start) + \"_\" + str(dump_interval) + \"_\" + str(dump_end) + \".txt\"):\n",
    "        c = pp.ProValueArray(atoms_traj)\n",
    "        c.select(\"xu\")\n",
    "        pp.execute_omp(c)\n",
    "        results = c.get_results()\n",
    "    \n",
    "        xu_array_O = results[\"xu\"]\n",
    "        Min_Oxu = np.zeros(len(atoms_traj))\n",
    "        Max_Oxu = np.zeros(len(atoms_traj))\n",
    "        for i in range(len(atoms_traj)):\n",
    "            Min_Oxu[i] = np.min(xu_array_O[i])\n",
    "            Max_Oxu[i] = np.max(xu_array_O[i])\n",
    "        print(Min_Oxu)\n",
    "        print(Max_Oxu)\n",
    "    \n",
    "        os.chdir(path_Analyze)\n",
    "        np.savetxt(\"Data_Min_Oxu\" + str(dump_start) + \"_\" + str(dump_interval) + \"_\" + str(dump_end) + \".txt\", Min_Oxu, fmt='%f', delimiter=' ')\n",
    "        np.savetxt(\"Data_Max_Oxu\" + str(dump_start) + \"_\" + str(dump_interval) + \"_\" + str(dump_end) + \".txt\", Max_Oxu, fmt='%f', delimiter=' ')\n",
    "else:\n",
    "  print(\"Will read Min_Oxu,Max_Oxu directly from the previous saved file.\")"
   ]
  },
  {
   "cell_type": "code",
   "execution_count": 16,
   "metadata": {},
   "outputs": [],
   "source": [
    "os.chdir(path_Analyze)\n",
    "Min_Oxu = np.loadtxt(\n",
    "    \"Data_Min_Oxu\" + str(dump_start) + \"_\" + str(dump_interval) + \"_\" + str(dump_end) + \".txt\",\n",
    "    delimiter = \" \",\n",
    "    skiprows = 0,\n",
    ")\n",
    "Max_Oxu = np.loadtxt(\n",
    "    \"Data_Max_Oxu\" + str(dump_start) + \"_\" + str(dump_interval) + \"_\" + str(dump_end) + \".txt\",\n",
    "    delimiter = \" \",\n",
    "    skiprows = 0,\n",
    ")"
   ]
  },
  {
   "cell_type": "code",
   "execution_count": 17,
   "metadata": {},
   "outputs": [
    {
     "name": "stdout",
     "output_type": "stream",
     "text": [
      "[24.728 24.837 24.985 ...  0.946  1.266  1.406]\n",
      "[59.781 59.981 60.194 ... 36.186 36.346 36.526]\n"
     ]
    }
   ],
   "source": [
    "#Cylinder下部のMin_Oxu,Max_OxuをWrap\n",
    "for i in range (len(atoms_traj)):   \n",
    "    if Min_Oxu[i] < 0:\n",
    "        while Min_Oxu[i] < 0:\n",
    "            Min_Oxu[i] +=  box_x\n",
    "    elif Min_Oxu[i] > box_x:\n",
    "        while Min_Oxu[i] > box_x:\n",
    "            Min_Oxu[i] -= box_x\n",
    "\n",
    "for i in range (len(atoms_traj)):   \n",
    "    if Max_Oxu[i] < 0:\n",
    "        while Max_Oxu[i] < 0:\n",
    "         Max_Oxu[i] +=  box_x\n",
    "    elif Max_Oxu[i] > box_x:\n",
    "        while Max_Oxu[i] > box_x:\n",
    "         Max_Oxu[i] -= box_x\n",
    "\n",
    "print(Min_Oxu)\n",
    "print(Max_Oxu)"
   ]
  },
  {
   "attachments": {},
   "cell_type": "markdown",
   "metadata": {},
   "source": [
    "## 2.1 Cal mass density profile for PAO atoms"
   ]
  },
  {
   "cell_type": "code",
   "execution_count": 32,
   "metadata": {
    "ExecuteTime": {
     "end_time": "2022-02-17T06:53:59.208629Z",
     "start_time": "2022-02-17T06:53:59.181135Z"
    }
   },
   "outputs": [],
   "source": [
    "os.chdir(path_dumps)\n",
    "atoms_traj = [pp.create(\n",
    "  pp.StaDumpAtoms(\"atom.{}.dump\".format(i), i))\n",
    "  for i in range(dump_start, dump_end, dump_interval)]"
   ]
  },
  {
   "cell_type": "code",
   "execution_count": 33,
   "metadata": {
    "ExecuteTime": {
     "end_time": "2022-02-17T06:53:59.216727Z",
     "start_time": "2022-02-17T06:53:59.211482Z"
    }
   },
   "outputs": [
    {
     "data": {
      "text/plain": [
       "2500"
      ]
     },
     "execution_count": 33,
     "metadata": {},
     "output_type": "execute_result"
    }
   ],
   "source": [
    "len(atoms_traj)"
   ]
  },
  {
   "cell_type": "code",
   "execution_count": 34,
   "metadata": {
    "ExecuteTime": {
     "end_time": "2022-02-17T06:54:47.147226Z",
     "start_time": "2022-02-17T06:53:59.219316Z"
    }
   },
   "outputs": [
    {
     "name": "stdout",
     "output_type": "stream",
     "text": [
      "[[ 4.  4.  4. ...  5.  5. 11.]\n",
      " [ 4.  4.  4. ...  5.  5. 11.]\n",
      " [ 4.  4.  4. ...  5.  5. 11.]\n",
      " ...\n",
      " [ 4.  4.  4. ...  5.  5. 11.]\n",
      " [ 4.  4.  4. ...  5.  5. 11.]\n",
      " [ 4.  4.  4. ...  5.  5. 11.]]\n"
     ]
    }
   ],
   "source": [
    "for atoms in atoms_traj:\n",
    "    atoms.append_updater(pp.FilSet({\"type\": {4,5,6,7,8,9,10,11}}))  \n",
    "    # 1: C     2: C     3: H\n",
    "\n",
    "pro = pp.ProValueArray(atoms_traj)\n",
    "pro.select(\"zu\",\"type\",\"xu\")\n",
    "\n",
    "pp.execute_omp(pro)\n",
    "\n",
    "results = pro.get_results()\n",
    "\n",
    "zu_array = results[\"zu\"]\n",
    "type_array = results[\"type\"]\n",
    "xu_array = results[\"xu\"]\n",
    "\n",
    "print(type_array)"
   ]
  },
  {
   "cell_type": "code",
   "execution_count": 35,
   "metadata": {},
   "outputs": [],
   "source": [
    "# total number of atoms selected \n",
    "\n",
    "atom_num = 3900            # 1: C     2: C     3: H"
   ]
  },
  {
   "cell_type": "code",
   "execution_count": 36,
   "metadata": {},
   "outputs": [
    {
     "name": "stdout",
     "output_type": "stream",
     "text": [
      "[[ 79.3572  80.2417  82.2385 ... 101.637  102.692  104.115 ]\n",
      " [ 78.7371  79.9052  81.7241 ... 101.582  102.43   105.338 ]\n",
      " [ 79.4322  80.5007  82.3471 ... 101.638  102.667  103.688 ]\n",
      " ...\n",
      " [ 78.7871  79.8699  81.7123 ... 104.677  105.26   104.533 ]\n",
      " [ 79.2379  80.4962  82.1204 ... 105.935  105.798  105.435 ]\n",
      " [ 78.9879  79.8007  82.0941 ... 105.883  105.628  105.097 ]]\n"
     ]
    }
   ],
   "source": [
    "for i in range (len(atoms_traj)):   \n",
    "    for j in range (atom_num):    #7320\n",
    "        if xu_array[i][j] < 0:\n",
    "            while xu_array[i][j]<0:\n",
    "                xu_array[i][j] = xu_array[i][j]+box_x\n",
    "        elif xu_array[i][j] > box_x:\n",
    "            while xu_array[i][j]>box_x:\n",
    "                xu_array[i][j] -= box_x\n",
    "        xu_array[i][j] = round(xu_array[i][j], 4)\n",
    "print(xu_array)"
   ]
  },
  {
   "cell_type": "code",
   "execution_count": 37,
   "metadata": {
    "ExecuteTime": {
     "end_time": "2022-02-17T06:55:55.787295Z",
     "start_time": "2022-02-17T06:54:47.148584Z"
    },
    "tags": []
   },
   "outputs": [
    {
     "name": "stdout",
     "output_type": "stream",
     "text": [
      "[0. 0. 0. ... 0. 0. 0.]\n"
     ]
    }
   ],
   "source": [
    "Mass_C = np.zeros(5000)\n",
    "Mass_H = np.zeros(5000) \n",
    "Mass_O = np.zeros(5000)\n",
    "Mass_N = np.zeros(5000)\n",
    "z = np.zeros(5000) \n",
    "\n",
    "\n",
    "for i in range (len(atoms_traj)):\n",
    "    for j in range (atom_num): \n",
    "\n",
    "      layer_C = (zu_array[i][j] - MaxLowerFe[i]) // gap   # 0.3//0.5=0; 0.9//0.5=1.0; 1.1//0.5=2.0\n",
    "\n",
    "      if Min_Oxu[i] < Max_Oxu[i]:\n",
    "        if Min_Oxu[i]<=xu_array[i][j]<=Max_Oxu[i]:\n",
    "\n",
    "            if type_array[i][j] == 4 or type_array[i][j] == 6 or type_array[i][j] == 7:\n",
    "                Mass_C[int(layer_C)] = Mass_C[int(layer_C)] + 12\n",
    "            \n",
    "            if type_array[i][j] == 5:\n",
    "                Mass_H[int(layer_C)] = Mass_H[int(layer_C)] + 1\n",
    "\n",
    "            if type_array[i][j] == 8 or type_array[i][j] == 10 or type_array[i][j] == 11:\n",
    "                Mass_O[int(layer_C)] = Mass_O[int(layer_C)] + 16\n",
    "            \n",
    "            if type_array[i][j] == 9 :\n",
    "                Mass_N[int(layer_C)] = Mass_N[int(layer_C)] + 14\n",
    "\n",
    "\n",
    "\n",
    "      elif Min_Oxu[i] > Max_Oxu[i]:\n",
    "        if Min_Oxu[i]<=xu_array[i][j] or xu_array[i][j]<=Max_Oxu[i]:\n",
    "\n",
    "            if type_array[i][j] == 4 or type_array[i][j] == 6 or type_array[i][j] == 7:\n",
    "                Mass_C[int(layer_C)] = Mass_C[int(layer_C)] + 12\n",
    "            \n",
    "            if type_array[i][j] == 5:\n",
    "                Mass_H[int(layer_C)] = Mass_H[int(layer_C)] + 1\n",
    "\n",
    "            if type_array[i][j] == 8 or type_array[i][j] == 10 or type_array[i][j] == 11:\n",
    "                Mass_O[int(layer_C)] = Mass_O[int(layer_C)] + 16\n",
    "            \n",
    "            if type_array[i][j] == 9 :\n",
    "                Mass_N[int(layer_C)] = Mass_N[int(layer_C)] + 14\n",
    "\n",
    "      \n",
    "            \n",
    "Mass_C = Mass_C / len(atoms_traj)  \n",
    "Density_C = Mass_C / Volume  \n",
    "Mass_H = Mass_H / len(atoms_traj)  \n",
    "Density_H = Mass_H / Volume  \n",
    "Mass_O = Mass_O / len(atoms_traj)  \n",
    "Density_O = Mass_O / Volume  \n",
    "Mass_N = Mass_N / len(atoms_traj)  \n",
    "Density_N = Mass_N / Volume  \n",
    "\n",
    "Density_OFM = (Density_C + Density_H + Density_O + Density_N)*(1.661129568)   \n",
    "\n",
    "print(Density_OFM)\n",
    "\n",
    "for i in range( int(FilmThickness/gap) ):\n",
    "    z[i+1] = z[i] + gap"
   ]
  },
  {
   "cell_type": "code",
   "execution_count": 38,
   "metadata": {
    "ExecuteTime": {
     "end_time": "2022-02-17T06:55:55.873416Z",
     "start_time": "2022-02-17T06:55:55.788638Z"
    }
   },
   "outputs": [
    {
     "data": {
      "text/plain": [
       "[<matplotlib.lines.Line2D at 0x7fb9414999e8>]"
      ]
     },
     "execution_count": 38,
     "metadata": {},
     "output_type": "execute_result"
    },
    {
     "data": {
      "image/png": "[encoded data removed]",
      "text/plain": [
       "<Figure size 432x288 with 1 Axes>"
      ]
     },
     "metadata": {
      "needs_background": "light"
     },
     "output_type": "display_data"
    }
   ],
   "source": [
    "x = z\n",
    "y1 = Density_OFM\n",
    "plt.plot(x, y1, label = 'PAO')"
   ]
  },
  {
   "cell_type": "code",
   "execution_count": 27,
   "metadata": {
    "ExecuteTime": {
     "end_time": "2022-02-17T06:55:55.878907Z",
     "start_time": "2022-02-17T06:55:55.874404Z"
    }
   },
   "outputs": [],
   "source": [
    "os.chdir(path_Analyze)\n",
    "\n",
    "# --------- PAO ---------\n",
    "wf = open(\"Data_\" + \"massd_pao\" + \".txt\", \"w\")\n",
    "wf.write( \"Total number of dumps: \" + str(len(atoms_traj)) + \"\\n\\n\" )\n",
    "wf.write( \"z[A]\\tmass_density_pao[g/cm^3]\\n\" )\n",
    "\n",
    "#wf.write( \"z[Å]\\tNDD(C)[/Å^3]\\n\" )\n",
    "for i in range( int(FilmThickness/gap) ):\n",
    "    wf.write(str(round(z[i],2)) + \"\\t\" + str(Density[i]) + \"\\n\")\n",
    "\n",
    "\n",
    "wf.close()"
   ]
  },
  {
   "attachments": {},
   "cell_type": "markdown",
   "metadata": {},
   "source": [
    "## 2.1 Cal mass density for c12ester OFM"
   ]
  },
  {
   "cell_type": "code",
   "execution_count": null,
   "metadata": {},
   "outputs": [],
   "source": []
  },
  {
   "cell_type": "code",
   "execution_count": null,
   "metadata": {},
   "outputs": [],
   "source": []
  },
  {
   "cell_type": "code",
   "execution_count": null,
   "metadata": {},
   "outputs": [],
   "source": []
  },
  {
   "cell_type": "code",
   "execution_count": null,
   "metadata": {},
   "outputs": [],
   "source": [
    "# 1. Find Max lower Fe\n",
    "if not os.path.isfile(path_Analyze + \"/Data_MaxLowerFe_Original\" + str(dump_start) + \"_\" + str(dump_interval) + \"_\" + str(dump_end) + \".txt\"):\n",
    "  \n",
    "  os.chdir(path_dumps)\n",
    "  atoms_traj = [pp.create(\n",
    "  pp.StaDumpAtoms(\"atom.{}.dump\".format(i), i))\n",
    "  for i in range(dump_start, dump_end, dump_interval)]\n",
    "\n",
    "  for atoms in atoms_traj:\n",
    "    atoms.append_updater(pp.FilSet({\"type\": {17}}))  # Type 17: Fe's type on lower interface\n",
    "\n",
    "  pro = pp.ProValueArray(atoms_traj)\n",
    "  pro.select(\"zu\")\n",
    "  pp.execute_omp(pro)\n",
    "  results = pro.get_results()\n",
    "  zu_array_Fe = results[\"zu\"]\n",
    "\n",
    "  MaxLowerFe = np.zeros(len(atoms_traj))\n",
    "  for i in range(len(atoms_traj)):\n",
    "      MaxLowerFe[i] = np.max(zu_array_Fe[i])  # Z_max for Fe in lower interface  \n",
    "  print(MaxLowerFe)\n",
    "\n",
    "  os.chdir(path_Analyze)\n",
    "  np.savetxt(\"Data_MaxLowerFe_Original\" + str(dump_start) + \"_\" + str(dump_interval) + \"_\" + str(dump_end) + \".txt\", MaxLowerFe, fmt='%f', delimiter=' ')\n",
    "\n",
    "else:\n",
    "  print(\"Will read MaxLowerFe directly from the previous saved file.\")"
   ]
  },
  {
   "cell_type": "code",
   "execution_count": null,
   "metadata": {},
   "outputs": [],
   "source": []
  },
  {
   "cell_type": "code",
   "execution_count": null,
   "metadata": {},
   "outputs": [],
   "source": []
  },
  {
   "cell_type": "code",
   "execution_count": null,
   "metadata": {},
   "outputs": [],
   "source": []
  },
  {
   "cell_type": "code",
   "execution_count": 60,
   "metadata": {},
   "outputs": [
    {
     "name": "stdout",
     "output_type": "stream",
     "text": [
      "[[ 4.  4.  4. ...  5.  5. 11.]\n",
      " [ 4.  4.  4. ...  5.  5. 11.]\n",
      " [ 4.  4.  4. ...  5.  5. 11.]\n",
      " ...\n",
      " [ 4.  4.  4. ...  5.  5. 11.]\n",
      " [ 4.  4.  4. ...  5.  5. 11.]\n",
      " [ 4.  4.  4. ...  5.  5. 11.]]\n"
     ]
    }
   ],
   "source": [
    "os.chdir(path_dumps)\n",
    "atoms_traj = [pp.create(\n",
    "  pp.StaDumpAtoms(\"atom.{}.dump\".format(i), i))\n",
    "  for i in range(dump_start, dump_end, dump_interval)]\n",
    "\n",
    "\n",
    "for atoms in atoms_traj:\n",
    "    atoms.append_updater(pp.FilSet({\"type\": {4,5,6,7,8,9,10,11}}))  \n",
    "    # all ester atoms\n",
    "\n",
    "pro = pp.ProValueArray(atoms_traj)\n",
    "pro.select(\"zu\",\"type\",\"xu\")\n",
    "\n",
    "pp.execute_omp(pro)\n",
    "\n",
    "results = pro.get_results()\n",
    "\n",
    "zu_array = results[\"zu\"]\n",
    "type_array = results[\"type\"]\n",
    "xu_array = results[\"xu\"]\n",
    "\n",
    "print(type_array)"
   ]
  },
  {
   "cell_type": "code",
   "execution_count": 62,
   "metadata": {},
   "outputs": [
    {
     "name": "stdout",
     "output_type": "stream",
     "text": [
      "[[ 79.3572  80.2417  82.2385 ... 101.637  102.692  104.115 ]\n",
      " [ 78.7371  79.9052  81.7241 ... 101.582  102.43   105.338 ]\n",
      " [ 79.4322  80.5007  82.3471 ... 101.638  102.667  103.688 ]\n",
      " ...\n",
      " [ 78.7871  79.8699  81.7123 ... 104.677  105.26   104.533 ]\n",
      " [ 79.2379  80.4962  82.1204 ... 105.935  105.798  105.435 ]\n",
      " [ 78.9879  79.8007  82.0941 ... 105.883  105.628  105.097 ]]\n"
     ]
    }
   ],
   "source": [
    "# total number of atoms selected \n",
    "\n",
    "atom_num = 3900\n",
    "\n",
    "print(xu_array)\n",
    "\n",
    "if not os.path.isfile(path_Analyze + \"xu_array.txt\"):\n",
    "    os.chdir(path_Analyze)\n",
    "    np.savetxt(\"xu_array.txt\", xu_array, fmt='%f', delimiter = \" \")"
   ]
  },
  {
   "cell_type": "code",
   "execution_count": 63,
   "metadata": {},
   "outputs": [
    {
     "name": "stdout",
     "output_type": "stream",
     "text": [
      "[[ 79.3572  80.2417  82.2385 ... 101.637  102.692  104.115 ]\n",
      " [ 78.7371  79.9052  81.7241 ... 101.582  102.43   105.338 ]\n",
      " [ 79.4322  80.5007  82.3471 ... 101.638  102.667  103.688 ]\n",
      " ...\n",
      " [ 78.7871  79.8699  81.7123 ... 104.677  105.26   104.533 ]\n",
      " [ 79.2379  80.4962  82.1204 ... 105.935  105.798  105.435 ]\n",
      " [ 78.9879  79.8007  82.0941 ... 105.883  105.628  105.097 ]]\n"
     ]
    }
   ],
   "source": [
    "for i in range (len(atoms_traj)):   \n",
    "    for j in range (atom_num):    #3900\n",
    "        if xu_array[i][j] < 0:\n",
    "            while xu_array[i][j]<0:\n",
    "                xu_array[i][j] = xu_array[i][j]+box_x\n",
    "        elif xu_array[i][j] > box_x:\n",
    "            while xu_array[i][j]>box_x:\n",
    "                xu_array[i][j] -= box_x\n",
    "        xu_array[i][j] = round(xu_array[i][j], 4)\n",
    "print(xu_array)\n",
    "\n",
    "if not os.path.isfile(path_Analyze + \"xu_array.txt\"):\n",
    "    os.chdir(path_Analyze)\n",
    "    np.savetxt(\"xu_array.txt\", xu_array, fmt='%f', delimiter = \" \")"
   ]
  },
  {
   "cell_type": "code",
   "execution_count": 64,
   "metadata": {},
   "outputs": [
    {
     "name": "stdout",
     "output_type": "stream",
     "text": [
      "[0. 0. 0. ... 0. 0. 0.]\n"
     ]
    }
   ],
   "source": [
    "Mass_C = np.zeros(5000)\n",
    "Mass_H = np.zeros(5000) \n",
    "Mass_O = np.zeros(5000)\n",
    "Mass_N = np.zeros(5000)\n",
    "z = np.zeros(5000) \n",
    "\n",
    "\n",
    "for i in range (len(atoms_traj)):\n",
    "    for j in range (atom_num): \n",
    "\n",
    "      layer_C = (zu_array[i][j] - MaxLowerFe[i]) // gap   # 0.3//0.5=0; 0.9//0.5=1.0; 1.1//0.5=2.0\n",
    "\n",
    "      if Min_Oxu[i] < Max_Oxu[i]:\n",
    "        if Min_Oxu[i]<=xu_array[i][j]<=Max_Oxu[i]:\n",
    "\n",
    "            if type_array[i][j] == 4 or type_array[i][j] == 6 :\n",
    "                Mass_C[int(layer_C)] = Mass_C[int(layer_C)] + 12\n",
    "            \n",
    "            if type_array[i][j] == 5:\n",
    "                Mass_H[int(layer_C)] = Mass_H[int(layer_C)] + 1\n",
    "\n",
    "            if type_array[i][j] == 8 or type_array[i][j] == 10 :\n",
    "                Mass_O[int(layer_C)] = Mass_O[int(layer_C)] + 16\n",
    "            \n",
    "            if type_array[i][j] == 9 :\n",
    "                Mass_N[int(layer_C)] = Mass_N[int(layer_C)] + 14\n",
    "\n",
    "\n",
    "\n",
    "      elif Min_Oxu[i] > Max_Oxu[i]:\n",
    "        if Min_Oxu[i]<=xu_array[i][j] or xu_array[i][j]<=Max_Oxu[i]:\n",
    "\n",
    "            if type_array[i][j] == 4 or type_array[i][j] == 6 :\n",
    "                Mass_C[int(layer_C)] = Mass_C[int(layer_C)] + 12\n",
    "            \n",
    "            if type_array[i][j] == 5:\n",
    "                Mass_H[int(layer_C)] = Mass_H[int(layer_C)] + 1\n",
    "\n",
    "            if type_array[i][j] == 8 or type_array[i][j] == 10 :\n",
    "                Mass_O[int(layer_C)] = Mass_O[int(layer_C)] + 16\n",
    "            \n",
    "            if type_array[i][j] == 9 :\n",
    "                Mass_N[int(layer_C)] = Mass_N[int(layer_C)] + 14\n",
    "\n",
    "      \n",
    "            \n",
    "Mass_C = Mass_C / len(atoms_traj)  \n",
    "Density_C = Mass_C / Volume  \n",
    "Mass_H = Mass_H / len(atoms_traj)  \n",
    "Density_H = Mass_H / Volume  \n",
    "Mass_O = Mass_O / len(atoms_traj)  \n",
    "Density_O = Mass_O / Volume  \n",
    "Mass_N = Mass_N / len(atoms_traj)  \n",
    "Density_N = Mass_N / Volume  \n",
    "\n",
    "Density_OFM = (Density_C + Density_H + Density_O + Density_N)*(1.661129568)   \n",
    "\n",
    "print(Density_OFM)\n",
    "\n",
    "for i in range( int(FilmThickness/gap) ):\n",
    "    z[i+1] = z[i] + gap\n"
   ]
  },
  {
   "cell_type": "code",
   "execution_count": 65,
   "metadata": {},
   "outputs": [],
   "source": [
    "if not os.path.isfile(path_Analyze + \"Density_OFM.txt\"):\n",
    "    os.chdir(path_Analyze)\n",
    "    np.savetxt(\"Density_OFM.txt\", Density_OFM, fmt='%f', delimiter = \" \")"
   ]
  },
  {
   "cell_type": "code",
   "execution_count": 56,
   "metadata": {},
   "outputs": [
    {
     "data": {
      "text/plain": [
       "[<matplotlib.lines.Line2D at 0x7f84e2e12e10>]"
      ]
     },
     "execution_count": 56,
     "metadata": {},
     "output_type": "execute_result"
    },
    {
     "data": {
      "image/png": "[encoded data removed]",
      "text/plain": [
       "<Figure size 432x288 with 1 Axes>"
      ]
     },
     "metadata": {
      "needs_background": "light"
     },
     "output_type": "display_data"
    }
   ],
   "source": [
    "x = z\n",
    "y2 = Density_OFM\n",
    "\n",
    "plt.plot(x, y2, label = 'OFM')"
   ]
  },
  {
   "cell_type": "code",
   "execution_count": 33,
   "metadata": {},
   "outputs": [
    {
     "data": {
      "image/png": "[encoded data removed]",
      "text/plain": [
       "<Figure size 432x288 with 1 Axes>"
      ]
     },
     "metadata": {
      "needs_background": "light"
     },
     "output_type": "display_data"
    }
   ],
   "source": [
    "x = z\n",
    "y1 = Density\n",
    "plt.plot(x, y1, label = 'PAO')\n",
    "y2 = Density_OFM\n",
    "plt.plot(x, y2, label = 'OFM')\n",
    "plt.legend()\n",
    "plt.show()"
   ]
  },
  {
   "cell_type": "code",
   "execution_count": 66,
   "metadata": {},
   "outputs": [
    {
     "data": {
      "image/png": "[encoded data removed]",
      "text/plain": [
       "<Figure size 432x288 with 1 Axes>"
      ]
     },
     "metadata": {
      "needs_background": "light"
     },
     "output_type": "display_data"
    }
   ],
   "source": [
    "x = z\n",
    "y1 = Density\n",
    "plt.plot(x, y1, label = 'PAO')\n",
    "y2 = Density_OFM\n",
    "plt.plot(x, y2, label = 'OFM')\n",
    "plt.legend()\n",
    "plt.show()"
   ]
  },
  {
   "cell_type": "code",
   "execution_count": 73,
   "metadata": {},
   "outputs": [
    {
     "name": "stdout",
     "output_type": "stream",
     "text": [
      "[0. 0. 0. ... 0. 0. 0.]\n"
     ]
    }
   ],
   "source": [
    "x = z\n",
    "y1 = Density\n",
    "y2 = Density_OFM\n",
    "\n",
    "\n",
    "y = y1 + y2\n",
    "\n",
    "print(y)\n",
    "if not os.path.isfile(path_Analyze + \"Density_overall.txt\"):\n",
    "    os.chdir(path_Analyze)\n",
    "    np.savetxt(\"Density_overall.txt\", y, fmt='%f', delimiter = \" \")\n",
    "\n",
    "\n"
   ]
  },
  {
   "cell_type": "code",
   "execution_count": 1,
   "metadata": {},
   "outputs": [
    {
     "ename": "NameError",
     "evalue": "name 'z' is not defined",
     "output_type": "error",
     "traceback": [
      "\u001b[0;31m---------------------------------------------------------------------------\u001b[0m",
      "\u001b[0;31mNameError\u001b[0m                                 Traceback (most recent call last)",
      "\u001b[0;32m<ipython-input-1-8b222ec6b9f9>\u001b[0m in \u001b[0;36m<module>\u001b[0;34m\u001b[0m\n\u001b[0;32m----> 1\u001b[0;31m \u001b[0mx\u001b[0m \u001b[0;34m=\u001b[0m \u001b[0mz\u001b[0m\u001b[0;34m\u001b[0m\u001b[0;34m\u001b[0m\u001b[0m\n\u001b[0m\u001b[1;32m      2\u001b[0m \u001b[0my1\u001b[0m \u001b[0;34m=\u001b[0m \u001b[0mDensity\u001b[0m\u001b[0;34m\u001b[0m\u001b[0;34m\u001b[0m\u001b[0m\n\u001b[1;32m      3\u001b[0m \u001b[0my2\u001b[0m \u001b[0;34m=\u001b[0m \u001b[0mDensity_OFM\u001b[0m\u001b[0;34m\u001b[0m\u001b[0;34m\u001b[0m\u001b[0m\n\u001b[1;32m      4\u001b[0m \u001b[0;34m\u001b[0m\u001b[0m\n\u001b[1;32m      5\u001b[0m \u001b[0my\u001b[0m \u001b[0;34m=\u001b[0m \u001b[0mDensity_OFM\u001b[0m\u001b[0;34m/\u001b[0m\u001b[0;34m(\u001b[0m\u001b[0mDensity\u001b[0m\u001b[0;34m+\u001b[0m\u001b[0mDensity_OFM\u001b[0m\u001b[0;34m)\u001b[0m\u001b[0;34m\u001b[0m\u001b[0;34m\u001b[0m\u001b[0m\n",
      "\u001b[0;31mNameError\u001b[0m: name 'z' is not defined"
     ]
    }
   ],
   "source": [
    "x = z\n",
    "y1 = Density\n",
    "y2 = Density_OFM\n",
    "\n",
    "y = Density_OFM/(Density+Density_OFM)\n",
    "\n",
    "if not os.path.isfile(path_Analyze + \"Density_relative.txt\"):\n",
    "    os.chdir(path_Analyze)\n",
    "    np.savetxt(\"Density_relative.txt\", y, fmt='%f', delimiter = \" \")\n",
    "\n",
    "plt.plot(x, y)\n",
    "plt.legend()\n",
    "plt.show()"
   ]
  }
 ],
 "metadata": {
  "kernelspec": {
   "display_name": "Python 3",
   "language": "python",
   "name": "python3"
  },
  "language_info": {
   "codemirror_mode": {
    "name": "ipython",
    "version": 3
   },
   "file_extension": ".py",
   "mimetype": "text/x-python",
   "name": "python",
   "nbconvert_exporter": "python",
   "pygments_lexer": "ipython3",
   "version": "3.6.10"
  },
  "metadata": {
   "interpreter": {
    "hash": "ac2eaa0ea0ebeafcc7822e65e46aa9d4f966f30b695406963e145ea4a91cd4fc"
   }
  },
  "toc": {
   "base_numbering": 1,
   "nav_menu": {},
   "number_sections": true,
   "sideBar": true,
   "skip_h1_title": true,
   "title_cell": "Table of Contents",
   "title_sidebar": "Contents",
   "toc_cell": false,
   "toc_position": {
    "height": "calc(100% - 180px)",
    "left": "10px",
    "top": "150px",
    "width": "384px"
   },
   "toc_section_display": true,
   "toc_window_display": false
  }
 },
 "nbformat": 4,
 "nbformat_minor": 4
}
